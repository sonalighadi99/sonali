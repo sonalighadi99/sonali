{
 "cells": [
  {
   "cell_type": "raw",
   "id": "b16a9b27-23de-4794-9148-dcf8e8ff0961",
   "metadata": {},
   "source": [
    "Q1. What is an Exception in python? Write the difference between Exceptions and syntax errors."
   ]
  },
  {
   "cell_type": "markdown",
   "id": "74991664-b912-499b-9acc-b605d0ad64eb",
   "metadata": {},
   "source": [
    "In Python, an exception is an event that occurs during the execution of a program that disrupts the normal flow of the programs \n",
    "instructions. When an exceptional situation arises, Python raises an exception, which is a signal that something unexpected or \n",
    "erroneous has happened. Exceptions allow you to handle errors and exceptional conditions in a structured and controlled manner.\n",
    "\n",
    "Here are some key points about exceptions in Python:\n",
    "Types of Exceptions: Python has a wide range of built-in exception types to cover various error scenarios, such as \n",
    "ZeroDivisionError, FileNotFoundError, TypeError, ValueError, and more. Additionally, you can create custom exceptions by \n",
    "defining your own exception classes.\n",
    "\n",
    "Exception Handling: To deal with exceptions, Python provides try-except blocks. You can use a try block to enclose code that\n",
    "might raise an exception, and then use one or more except blocks to specify how to handle specific types of exceptions when \n",
    "they occur.\n",
    "\n",
    "Exception Propagation: If an exception is not caught and handled within a function, it will propagate up the call stack until it is either caught or the program terminates.\n",
    "\n",
    "Clean-Up with finally: You can use a finally block after a try-except block to specify code that should always run, whether or not an exception is raised. This is useful for clean-up operations.\n",
    "\n",
    "Exceptions:\n",
    "\n",
    "Timing: Exceptions occur during the runtime (execution) of a program when something goes wrong, such as attempting to divide by zero or opening a non-existent file.\n",
    "\n",
    "Handling: Exceptions can be handled using try-except blocks, allowing you to gracefully respond to errors and continue the program's execution.\n",
    "\n",
    "Examples: ZeroDivisionError, FileNotFoundError, TypeError, and other runtime-specific errors are examples of exceptions.\n",
    "\n",
    "Syntax Errors:\n",
    "\n",
    "Timing: Syntax errors are detected by the Python interpreter during the parsing phase, before the program is executed. They are a result of violating the language's syntax rules.\n",
    "\n",
    "Handling: Syntax errors cannot be caught or handled using try-except blocks. They must be fixed in the code before the program can be executed.\n",
    "\n",
    "Examples: Examples of syntax errors include missing colons, mismatched parentheses, incorrect indentation, and other violations of Python's syntax rules."
   ]
  },
  {
   "cell_type": "raw",
   "id": "858a49e6-9617-474b-a71a-7aa94fb2f6b5",
   "metadata": {},
   "source": [
    "Q2. What happens when an exception is not handled? Explain with an example"
   ]
  },
  {
   "cell_type": "markdown",
   "id": "31f82a62-b30f-4e38-b0c8-9307ba327886",
   "metadata": {},
   "source": [
    "When an exception is not handled, it results in the program terminating abruptly, and an error message called a traceback is\n",
    "displayed. The traceback provides information about the exception that occurred, including the type of exception, the line of \n",
    "code where it occurred, and the call stack leading up to the exception."
   ]
  },
  {
   "cell_type": "code",
   "execution_count": 1,
   "id": "ad2478f6-8311-4156-b203-f51cabeae1f4",
   "metadata": {},
   "outputs": [
    {
     "ename": "ZeroDivisionError",
     "evalue": "division by zero",
     "output_type": "error",
     "traceback": [
      "\u001b[0;31m---------------------------------------------------------------------------\u001b[0m",
      "\u001b[0;31mZeroDivisionError\u001b[0m                         Traceback (most recent call last)",
      "Cell \u001b[0;32mIn[1], line 2\u001b[0m\n\u001b[1;32m      1\u001b[0m \u001b[38;5;66;03m# Attempt to divide by zero, which will raise a ZeroDivisionError\u001b[39;00m\n\u001b[0;32m----> 2\u001b[0m result \u001b[38;5;241m=\u001b[39m \u001b[38;5;241;43m10\u001b[39;49m\u001b[43m \u001b[49m\u001b[38;5;241;43m/\u001b[39;49m\u001b[43m \u001b[49m\u001b[38;5;241;43m0\u001b[39;49m\n\u001b[1;32m      4\u001b[0m \u001b[38;5;66;03m# This line will not be executed due to the unhandled exception\u001b[39;00m\n\u001b[1;32m      5\u001b[0m \u001b[38;5;28mprint\u001b[39m(\u001b[38;5;124m\"\u001b[39m\u001b[38;5;124mThis line will not be reached.\u001b[39m\u001b[38;5;124m\"\u001b[39m)\n",
      "\u001b[0;31mZeroDivisionError\u001b[0m: division by zero"
     ]
    }
   ],
   "source": [
    "# Attempt to divide by zero, which will raise a ZeroDivisionError\n",
    "result = 10 / 0\n",
    "\n",
    "# This line will not be executed due to the unhandled exception\n",
    "print(\"This line will not be reached.\")\n"
   ]
  },
  {
   "cell_type": "markdown",
   "id": "e37e420e-4566-4262-93eb-62b327667b9a",
   "metadata": {},
   "source": [
    "In this example, we attempt to divide the number 10 by zero, which is not allowed in mathematics, \n",
    "and it raises a ZeroDivisionError exception. \n",
    "To prevent the program from abruptly terminating, you can handle exceptions using try-except blocks. Here's how you could handle the ZeroDivisionError:"
   ]
  },
  {
   "cell_type": "code",
   "execution_count": 4,
   "id": "d4ebe587-93cb-4337-8494-ad00e0b74e58",
   "metadata": {},
   "outputs": [
    {
     "name": "stdout",
     "output_type": "stream",
     "text": [
      "Error: Division by zero occurred.\n"
     ]
    }
   ],
   "source": [
    "try:\n",
    "    result = 10 / 0\n",
    "except ZeroDivisionError:\n",
    "    print(\"Error: Division by zero occurred.\")\n"
   ]
  },
  {
   "cell_type": "raw",
   "id": "904031b1-aaa3-40aa-8c32-e8d18bd28692",
   "metadata": {},
   "source": [
    "Q3. Which Python statements that are used to ,catch and handle exceptions? Explain with an example"
   ]
  },
  {
   "cell_type": "code",
   "execution_count": null,
   "id": "a423d847-ff30-42fa-8d25-8af42ff79bf5",
   "metadata": {},
   "outputs": [],
   "source": [
    "# Example: Handling a ValueError\n",
    "try:\n",
    "    num = int(input(\"Enter a number: \"))\n",
    "    result = 10 / num\n",
    "except ValueError:\n",
    "    print(\"Invalid input. Please enter a valid number.\")\n",
    "except ZeroDivisionError:\n",
    "    print(\"Error: Division by zero.\")\n",
    "else:\n",
    "    print(\"Result:\", result)\n",
    "finally:\n",
    "    print(\"Execution complete.\")\n"
   ]
  },
  {
   "cell_type": "markdown",
   "id": "0b6f0624-1f08-4f12-98f8-be6c1c110612",
   "metadata": {},
   "source": [
    "We use a try block to enclose the code that might raise an exception. In this case, we're attempting to convert user input to \n",
    "an integer (int(input(...))) and perform a division operation (10 / num).\n",
    "\n",
    "We have two except blocks:\n",
    "\n",
    "The first except block catches a ValueError if the user enters something that cannot be converted to an integer \n",
    "(e.g., a non-numeric input).\n",
    "The second except block catches a ZeroDivisionError if the user enters zero, resulting in a division by zero.\n",
    "If neither of the specified exceptions occurs, the else block is executed, which prints the result of the division.\n",
    "\n",
    "The finally block is always executed, regardless of whether an exception occurred. It can be used for clean-up operations or\n",
    "any code that needs to run regardless of exceptions.\n",
    "\n",
    "When you run the code, the try block attempts to execute the code within it. If an exception occurs \n",
    "(e.g., if the user enters a non-integer or zero), the corresponding except block is executed, and the program continues to run \n",
    "after the try-except block. If no exception occurs, the else block is executed, and the finally block always runs at the end.\n",
    "\n",
    "In summary, try-except statements allow you to handle exceptions in a controlled and structured way, making your code more \n",
    "robust by gracefully dealing with errors instead of crashing the program.\n"
   ]
  },
  {
   "cell_type": "raw",
   "id": "3fb78e2c-3cce-49e1-8a27-527dc6b7af78",
   "metadata": {},
   "source": [
    "Q4. Explain with an example: try and else , finally,  raise"
   ]
  },
  {
   "cell_type": "markdown",
   "id": "481dfca7-3172-4df2-9936-9e3ff490ce57",
   "metadata": {},
   "source": [
    "1. try and else Blocks:\n",
    "\n",
    "The try block encloses code that might raise an exception.\n",
    "The else block is executed only if no exception is raised in the try block."
   ]
  },
  {
   "cell_type": "code",
   "execution_count": null,
   "id": "e25be346-5bb2-4fd0-bb1e-3bc07e6ec971",
   "metadata": {},
   "outputs": [],
   "source": [
    "try:\n",
    "    result = 10 / 2\n",
    "except ZeroDivisionError:\n",
    "    print(\"Error: Division by zero\")\n",
    "else:\n",
    "    print(\"No exceptions occurred\")\n"
   ]
  },
  {
   "cell_type": "markdown",
   "id": "30172fbf-9df2-4e16-bf60-4559419be800",
   "metadata": {},
   "source": [
    "2. finally Block:\n",
    "\n",
    "The finally block is used to specify code that must be executed, regardless of whether an exception occurred or not."
   ]
  },
  {
   "cell_type": "code",
   "execution_count": null,
   "id": "4d93c5c8-c60c-4d37-a6c2-4d4e6c28b8c9",
   "metadata": {},
   "outputs": [],
   "source": [
    "try:\n",
    "    result = 10 / 0  # This will raise a ZeroDivisionError\n",
    "except ZeroDivisionError:\n",
    "    print(\"Error: Division by zero\")\n",
    "finally:\n",
    "    print(\"Execution complete\")\n"
   ]
  },
  {
   "cell_type": "markdown",
   "id": "b344a991-7047-4155-971b-b4298efff212",
   "metadata": {},
   "source": [
    "3.raise Statement:\n",
    "\n",
    "The raise statement is used to explicitly raise exceptions in your code."
   ]
  },
  {
   "cell_type": "code",
   "execution_count": null,
   "id": "cead21bb-71eb-43d9-8a4a-1e3e221c5e89",
   "metadata": {},
   "outputs": [],
   "source": [
    "def divide(x, y):\n",
    "    if y == 0:\n",
    "        raise ZeroDivisionError(\"Division by zero is not allowed\")\n",
    "    return x / y\n",
    "\n",
    "try:\n",
    "    result = divide(10, 2)  # This will not raise an exception\n",
    "except ZeroDivisionError as e:\n",
    "    print(\"Caught an exception:\", e)\n",
    "else:\n",
    "    print(\"Result:\", result)\n"
   ]
  },
  {
   "cell_type": "raw",
   "id": "383ece20-7764-4f0f-8880-9923ecf40641",
   "metadata": {},
   "source": [
    "Q5. What are Custom Exceptions in python? What do we need Custom Exceptions? Explain with an example"
   ]
  },
  {
   "cell_type": "markdown",
   "id": "1eafb3ab-531a-4ec6-b395-d08b606cfac3",
   "metadata": {},
   "source": [
    "In Python, custom exceptions, also known as user-defined exceptions, are exceptions that you create yourself by defining a new \n",
    "exception class. Custom exceptions can be useful when you encounter specific error conditions in your code that aren't \n",
    "adequately represented by the built-in exception classes. They allow you to provide more descriptive error messages and handle\n",
    "exceptional situations unique to your application.\n",
    "\n",
    "To create a custom exception, you typically define a new class that inherits from the built-in Exception class or one of its \n",
    "subclasses, such as BaseException, RuntimeError, or ValueError. You can add custom attributes and methods to your exception \n",
    "class to provide additional information or behavior."
   ]
  },
  {
   "cell_type": "code",
   "execution_count": null,
   "id": "32f65121-7bad-4973-867e-62ee03715f74",
   "metadata": {},
   "outputs": [],
   "source": [
    "# Define a custom exception class\n",
    "class MyCustomError(Exception):\n",
    "    def __init__(self, message):\n",
    "        super().__init__(message)\n",
    "\n",
    "# Function that raises the custom exception\n",
    "def validate_age(age):\n",
    "    if age < 0:\n",
    "        raise MyCustomError(\"Age cannot be negative\")\n",
    "\n",
    "# Example usage of the custom exception\n",
    "try:\n",
    "    user_age = int(input(\"Enter your age: \"))\n",
    "    validate_age(user_age)\n",
    "except MyCustomError as e:\n",
    "    print(f\"Error: {e}\")\n",
    "else:\n",
    "    print(f\"You entered a valid age: {user_age}\")\n"
   ]
  },
  {
   "cell_type": "markdown",
   "id": "14225e38-ed76-4e6c-be13-1e15314b74df",
   "metadata": {},
   "source": [
    "In this example:\n",
    "\n",
    "We define a custom exception class called MyCustomError that inherits from the base Exception class. We also provide \n",
    "an __init__ method to set a custom error message when the exception is raised.\n",
    "\n",
    "The validate_age() function checks if the provided age is negative. If it's negative, it raises our custom exception \n",
    "MyCustomError with a descriptive error message.\n",
    "\n",
    "In the main code block, we use a try-except block to capture the custom exception. If the user enters a negative age, the\n",
    "MyCustomError is raised, and we display the custom error message. Otherwise, we print the entered valid age.\n",
    "\n",
    "Custom exceptions are beneficial because they make your code more readable, maintainable, and expressive. They allow you to\n",
    "encapsulate error-handling logic specific to your application domain and provide clear error messages that help with debugging\n",
    "and understanding exceptional conditions."
   ]
  },
  {
   "cell_type": "raw",
   "id": "463caefb-4496-4444-8d1c-1ebc62302786",
   "metadata": {},
   "source": [
    "Q6. Create  a custom exception class. Use this class to handle an exception."
   ]
  },
  {
   "cell_type": "code",
   "execution_count": null,
   "id": "9f5161b9-e518-415b-b98a-667e9922def3",
   "metadata": {},
   "outputs": [],
   "source": [
    "# Define a custom exception class\n",
    "class InvalidInputError(Exception):\n",
    "    def __init__(self, message):\n",
    "        super().__init__(message)\n",
    "\n",
    "# Function that validates user input and raises the custom exception if input is invalid\n",
    "def get_positive_integer():\n",
    "    try:\n",
    "        user_input = int(input(\"Enter a positive integer: \"))\n",
    "        if user_input <= 0:\n",
    "            raise InvalidInputError(\"Input must be a positive integer\")\n",
    "        return user_input\n",
    "    except ValueError:\n",
    "        raise InvalidInputError(\"Invalid input. Please enter a positive integer\")\n",
    "\n",
    "# Example usage of the custom exception\n",
    "try:\n",
    "    age = get_positive_integer()\n",
    "    print(f\"Valid input: {age}\")\n",
    "except InvalidInputError as e:\n",
    "    print(f\"Error: {e}\")\n"
   ]
  },
  {
   "cell_type": "code",
   "execution_count": null,
   "id": "f0149bda-01f0-4dc4-ab7a-a20584d9714b",
   "metadata": {},
   "outputs": [],
   "source": []
  }
 ],
 "metadata": {
  "kernelspec": {
   "display_name": "Python 3 (ipykernel)",
   "language": "python",
   "name": "python3"
  },
  "language_info": {
   "codemirror_mode": {
    "name": "ipython",
    "version": 3
   },
   "file_extension": ".py",
   "mimetype": "text/x-python",
   "name": "python",
   "nbconvert_exporter": "python",
   "pygments_lexer": "ipython3",
   "version": "3.10.8"
  }
 },
 "nbformat": 4,
 "nbformat_minor": 5
}
