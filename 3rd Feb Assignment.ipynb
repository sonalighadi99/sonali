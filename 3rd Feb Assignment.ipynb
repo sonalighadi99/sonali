{
 "cells": [
  {
   "cell_type": "markdown",
   "id": "1a78003e-fe49-4705-a447-de4f45f06cff",
   "metadata": {},
   "source": [
    "Q1. Which keyword is used to create a function? Create a function to return a list of odd numbers in the\n",
    "range of 1 to 25."
   ]
  },
  {
   "cell_type": "raw",
   "id": "97d395c7-6476-463b-af5a-e5428f248b77",
   "metadata": {},
   "source": [
    "Ans: The def keyword is used to create a function in Python.\n",
    "\n",
    "A function named get_odd_numbers that returns a list of odd numbers in the range of 1 to 25:\n",
    "\n"
   ]
  },
  {
   "cell_type": "code",
   "execution_count": 4,
   "id": "7abd7e59-442f-4c5f-b5a5-a3d434792759",
   "metadata": {},
   "outputs": [
    {
     "name": "stdout",
     "output_type": "stream",
     "text": [
      "[1, 3, 5, 7, 9, 11, 13, 15, 17, 19, 21, 23, 25]\n"
     ]
    }
   ],
   "source": [
    "def get_odd_numbers():\n",
    "    odd_numbers = []\n",
    "    for num in range(1, 26):\n",
    "        if num % 2 == 1:\n",
    "            odd_numbers.append(num)\n",
    "    return odd_numbers\n",
    "odd_numbers = get_odd_numbers()\n",
    "print(odd_numbers)"
   ]
  },
  {
   "cell_type": "markdown",
   "id": "6d5b1057-2af9-42fa-92ae-ad98f08e5393",
   "metadata": {},
   "source": [
    "Q2. Why *args and **kwargs is used in some functions? Create a function each for *args and **kwargs to\n",
    "demonstrate their use."
   ]
  },
  {
   "cell_type": "raw",
   "id": "c9b12291-84e5-4d9c-b43d-09759c24ff96",
   "metadata": {},
   "source": [
    "Ans: *args and **kwargs are special syntaxes in Python used to pass a variable number of arguments to a function.\n",
    "\n",
    "*args allows a function to accept any number of positional arguments as a tuple. \n",
    "**kwargs allows a function to accept any number of keyword arguments as a dictionary."
   ]
  },
  {
   "cell_type": "code",
   "execution_count": 7,
   "id": "3e87fb37-773e-4dc4-8a4d-6a3fb7fb92bf",
   "metadata": {},
   "outputs": [
    {
     "name": "stdout",
     "output_type": "stream",
     "text": [
      "6\n",
      "30\n",
      "19\n"
     ]
    }
   ],
   "source": [
    "def sum_numbers(*args):\n",
    "    total = 0\n",
    "    for num in args:\n",
    "        total += num\n",
    "    return total\n",
    "sum1 = sum_numbers(1, 2, 3)\n",
    "sum2 = sum_numbers(4, 5, 6, 7, 8)\n",
    "sum3 = sum_numbers(9, 10)\n",
    "\n",
    "print(sum1)  \n",
    "print(sum2) \n",
    "print(sum3) \n"
   ]
  },
  {
   "cell_type": "code",
   "execution_count": 10,
   "id": "4c595ced-0ac8-40ac-b7d8-46f33f30e7a6",
   "metadata": {},
   "outputs": [],
   "source": [
    "def print_kwargs(**kwargs):\n",
    "    for key, value in kwargs.items():\n",
    "        print(f\"{key}: {value}\")\n"
   ]
  },
  {
   "cell_type": "code",
   "execution_count": 11,
   "id": "e2c6cd94-3301-4717-9bda-dd9bc4e9c27a",
   "metadata": {},
   "outputs": [
    {
     "name": "stdout",
     "output_type": "stream",
     "text": [
      "name: Alice\n",
      "age: 30\n",
      "city: New York\n"
     ]
    }
   ],
   "source": [
    " print_kwargs(name='Alice', age=30, city='New York')\n"
   ]
  },
  {
   "cell_type": "markdown",
   "id": "85ae25d9-2d29-431a-9cdc-2bdb8856513d",
   "metadata": {},
   "source": [
    "Q3. What is an iterator in python? Name the method used to initialise the iterator object and the method\n",
    "used for iteration. Use these methods to print the first five elements of the given list [2, 4, 6, 8, 10, 12, 14, 16,\n",
    "18, 20]."
   ]
  },
  {
   "cell_type": "raw",
   "id": "8c03bbf1-682c-4741-aa95-e42a14b784e7",
   "metadata": {},
   "source": [
    "Ans: In Python, an iterator is an object that implements the iterator protocol, which consists of two methods: __iter__() and __next__(). An iterator can be used to iterate over a sequence of elements, such as a list, tuple, or dictionary, one at a time.\n",
    "\n",
    "The __iter__() method is used to initialize an iterator object, and the __next__() method is used to get the next element from the iterator. When there are no more elements to iterate over, the __next__() method raises the StopIteration exception."
   ]
  },
  {
   "cell_type": "code",
   "execution_count": 12,
   "id": "d76fcff7-bc46-4803-b54c-2b0a7e3b7ef4",
   "metadata": {},
   "outputs": [
    {
     "name": "stdout",
     "output_type": "stream",
     "text": [
      "2\n",
      "4\n",
      "6\n",
      "8\n",
      "10\n"
     ]
    }
   ],
   "source": [
    "# Initialize the iterator object\n",
    "my_list = [2, 4, 6, 8, 10, 12, 14, 16, 18, 20]\n",
    "my_iter = iter(my_list)\n",
    "\n",
    "# Iterate over the first five elements\n",
    "for i in range(5):\n",
    "    print(next(my_iter))\n"
   ]
  },
  {
   "cell_type": "markdown",
   "id": "d03bbbaf-9234-42ee-9a55-d701c97a4354",
   "metadata": {},
   "source": [
    "Q4. What is a generator function in python? Why yield keyword is used? Give an example of a generator\n",
    "function."
   ]
  },
  {
   "cell_type": "raw",
   "id": "95769ff8-ae26-46cf-86cc-608fd7a28cae",
   "metadata": {},
   "source": [
    "Ans: A generator function in Python is a special type of function that generates a sequence of values using the yield keyword instead of return. When the function is called, it does not execute the entire function body at once. Instead, it returns a generator object, which can be used to generate the next value in the sequence each time the next() function is called.\n",
    "\n",
    "The yield keyword is used to produce a value from the generator function and temporarily suspend the function's execution. When the next() function is called again, the function resumes execution from the point where it was suspended, and the next value in the sequence is generated."
   ]
  },
  {
   "cell_type": "code",
   "execution_count": 14,
   "id": "981a5931-5a4f-42b5-83b8-282ae9670aa2",
   "metadata": {},
   "outputs": [
    {
     "name": "stdout",
     "output_type": "stream",
     "text": [
      "0\n",
      "2\n",
      "4\n",
      "6\n",
      "8\n"
     ]
    }
   ],
   "source": [
    "def even_numbers(limit):\n",
    "    n = 0\n",
    "    while n < limit:\n",
    "        yield n\n",
    "        n += 2\n",
    "my_gen = even_numbers(10)\n",
    "print(next(my_gen))  \n",
    "print(next(my_gen))  \n",
    "print(next(my_gen))  \n",
    "print(next(my_gen))  \n",
    "print(next(my_gen))  \n",
    "\n"
   ]
  },
  {
   "cell_type": "markdown",
   "id": "21f9e33f-f496-4013-9c21-228b6a8c8da8",
   "metadata": {},
   "source": [
    "Q5. Create a generator function for prime numbers less than 1000. Use the next() method to print the\n",
    "first 20 prime numbers."
   ]
  },
  {
   "cell_type": "code",
   "execution_count": 15,
   "id": "2177d6de-1e84-461e-b4d1-ad71e8041863",
   "metadata": {},
   "outputs": [
    {
     "name": "stdout",
     "output_type": "stream",
     "text": [
      "2\n",
      "3\n",
      "5\n",
      "7\n",
      "11\n",
      "13\n",
      "17\n",
      "19\n",
      "23\n",
      "29\n",
      "31\n",
      "37\n",
      "41\n",
      "43\n",
      "47\n",
      "53\n",
      "59\n",
      "61\n",
      "67\n",
      "71\n"
     ]
    }
   ],
   "source": [
    "def primes():\n",
    "    \"\"\"\n",
    "    Generator function that yields prime numbers less than 1000.\n",
    "    \"\"\"\n",
    "    # yield the first two prime numbers\n",
    "    yield 2\n",
    "    yield 3\n",
    "    # start checking from 5, skipping even numbers\n",
    "    n = 5\n",
    "    while n < 1000:\n",
    "        # check if n is prime\n",
    "        is_prime = True\n",
    "        for i in range(2, int(n**0.5) + 1):\n",
    "            if n % i == 0:\n",
    "                is_prime = False\n",
    "                break\n",
    "        if is_prime:\n",
    "            yield n\n",
    "        # check the next odd number\n",
    "        n += 2\n",
    "\n",
    "# use the generator to print the first 20 prime numbers\n",
    "my_gen = primes()\n",
    "for i in range(20):\n",
    "    print(next(my_gen))\n"
   ]
  }
 ],
 "metadata": {
  "kernelspec": {
   "display_name": "Python 3 (ipykernel)",
   "language": "python",
   "name": "python3"
  },
  "language_info": {
   "codemirror_mode": {
    "name": "ipython",
    "version": 3
   },
   "file_extension": ".py",
   "mimetype": "text/x-python",
   "name": "python",
   "nbconvert_exporter": "python",
   "pygments_lexer": "ipython3",
   "version": "3.10.8"
  }
 },
 "nbformat": 4,
 "nbformat_minor": 5
}
