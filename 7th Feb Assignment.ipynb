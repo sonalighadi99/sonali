{
 "cells": [
  {
   "cell_type": "markdown",
   "id": "861a2d19-e00d-4e98-bc40-a6c1ea9c2a0a",
   "metadata": {},
   "source": [
    "Q1. You are writing code for a company. The requirement of the company is that you create a python\n",
    "function that will check whether the password entered by the user is correct or not. The function should\n",
    "take the password as input and return the string “Valid Password” if the entered password follows the\n",
    "below-given password guidelines else it should return “Invalid Password”.\n",
    "Note: 1. The Password should contain at least two uppercase letters and at least two lowercase letters.\n",
    "2. The Password should contain at least a number and three special characters.\n",
    "3. The length of the password should be 10 characters long."
   ]
  },
  {
   "cell_type": "code",
   "execution_count": 7,
   "id": "449abd56-fd93-4718-8b96-16a7d3401862",
   "metadata": {},
   "outputs": [
    {
     "name": "stdout",
     "output_type": "stream",
     "text": [
      "Invalid Password\n",
      "Invalid Password\n"
     ]
    }
   ],
   "source": [
    "import re\n",
    "\n",
    "def check_password(password):\n",
    "    # Check the length of the password\n",
    "    if len(password) != 10:\n",
    "        return \"Invalid Password\"\n",
    "\n",
    "    # Check for at least two uppercase letters\n",
    "    if len(re.findall(r'[A-Z]', password)) < 2:\n",
    "        return \"Invalid Password\"\n",
    "\n",
    "    # Check for at least two lowercase letters\n",
    "    if len(re.findall(r'[a-z]', password)) < 2:\n",
    "        return \"valid Password\"\n",
    "\n",
    "    # Check for at least one number and three special characters\n",
    "    if len(re.findall(r'\\d', password)) < 1 or len(re.findall(r'[!@#$%^&*]', password)) < 3:\n",
    "        return \"Invalid Password\"\n",
    "\n",
    "    return \"Valid Password\"\n",
    "\n",
    "# Example usage\n",
    "password1 = \"AbcdefgH123!!!\"\n",
    "result1 = check_password(password1)\n",
    "print(result1)  \n",
    "\n",
    "password2 = \"abc123\"\n",
    "result2 = check_password(password2)\n",
    "print(result2)  "
   ]
  },
  {
   "cell_type": "markdown",
   "id": "04579d5d-ac27-4caf-826d-c53409a562f1",
   "metadata": {},
   "source": [
    "Q2. Solve the below-given questions using at least one of the following:\n",
    "1. Lambda functioJ\n",
    "2. Filter functioJ\n",
    "3. Zap functioJ\n",
    "4. List ComprehensioI\n",
    "B Check if the string starts with a particular letterY\n",
    "B Check if the string is numericY\n",
    "B Sort a list of tuples having fruit names and their quantity. [(\"mango\",99),(\"orange\",80), (\"grapes\", 1000)-\n",
    "B Find the squares of numbers from 1 to 10Y\n",
    "B Find the cube root of numbers from 1 to 10Y\n",
    "B Check if a given number is evenY\n",
    "B Filter odd numbers from the given list.\n",
    "[1,2,3,4,5,6,7,8,9,10-\n",
    "B Sort a list of integers into positive and negative integers lists.\n",
    "[1,2,3,4,5,6,-1,-2,-3,-4,-5,0]"
   ]
  },
  {
   "cell_type": "code",
   "execution_count": 8,
   "id": "07ad1e7b-e673-43b9-b0cb-3310706ae7e6",
   "metadata": {},
   "outputs": [
    {
     "name": "stdout",
     "output_type": "stream",
     "text": [
      "['banana']\n"
     ]
    }
   ],
   "source": [
    "string_list = [\"apple\", \"banana\", \"orange\", \"mango\"]\n",
    "letter = \"b\"\n",
    "\n",
    "result = list(filter(lambda s: s.startswith(letter), string_list))\n",
    "print(result)  # Output: ['banana']"
   ]
  },
  {
   "cell_type": "code",
   "execution_count": 9,
   "id": "4d0992cc-0101-41af-b9a4-71d2f573ab1c",
   "metadata": {},
   "outputs": [
    {
     "name": "stdout",
     "output_type": "stream",
     "text": [
      "['123', '789']\n"
     ]
    }
   ],
   "source": [
    "string_list = [\"123\", \"abc\", \"45.6\", \"789\"]\n",
    "\n",
    "result = list(filter(lambda s: s.isnumeric(), string_list))\n",
    "print(result)  # Output: ['123', '789']"
   ]
  },
  {
   "cell_type": "code",
   "execution_count": 10,
   "id": "b16c8ef0-a276-46c1-a18d-b25dd1ffb659",
   "metadata": {},
   "outputs": [
    {
     "name": "stdout",
     "output_type": "stream",
     "text": [
      "[('orange', 80), ('mango', 99), ('grapes', 1000)]\n"
     ]
    }
   ],
   "source": [
    "fruits = [(\"mango\", 99), (\"orange\", 80), (\"grapes\", 1000)]\n",
    "\n",
    "result = sorted(fruits, key=lambda x: x[1])\n",
    "print(result)  # Output: [('orange', 80), ('mango', 99), ('grapes', 1000)]"
   ]
  },
  {
   "cell_type": "code",
   "execution_count": 11,
   "id": "76ba726a-6a57-4292-8549-9de5899f1fff",
   "metadata": {},
   "outputs": [
    {
     "name": "stdout",
     "output_type": "stream",
     "text": [
      "[1, 4, 9, 16, 25, 36, 49, 64, 81, 100]\n"
     ]
    }
   ],
   "source": [
    "numbers = range(1, 11)\n",
    "\n",
    "result = [x**2 for x in numbers]\n",
    "print(result)  # Output: [1, 4, 9, 16, 25, 36, 49, 64, 81, 100]"
   ]
  },
  {
   "cell_type": "code",
   "execution_count": 12,
   "id": "5c101d50-1109-406b-9aec-45a07a010e7c",
   "metadata": {},
   "outputs": [
    {
     "name": "stdout",
     "output_type": "stream",
     "text": [
      "[1.0, 1.2599210498948732, 1.4422495703074083, 1.5874010519681994, 1.7099759466766968, 1.8171205928321397, 1.912931182772389, 2.0, 2.080083823051904, 2.154434690031884]\n"
     ]
    }
   ],
   "source": [
    "import math\n",
    "\n",
    "numbers = range(1, 11)\n",
    "\n",
    "result = list(map(lambda x: math.pow(x, 1/3), numbers))\n",
    "print(result)  # Output: [1.0, 1.2599210498948732, 1.4422495703074083, 1.5874010519681994, 1.7099759466766968, 1.8171205928321397, 1.912931182772389, 2.0, 2.0800844153256546, 2.154434690031884]"
   ]
  },
  {
   "cell_type": "code",
   "execution_count": 13,
   "id": "50351a85-cd5e-4b3a-9d24-c02e86603834",
   "metadata": {},
   "outputs": [
    {
     "name": "stdout",
     "output_type": "stream",
     "text": [
      "Odd\n"
     ]
    }
   ],
   "source": [
    "number = 7\n",
    "\n",
    "result = \"Even\" if number % 2 == 0 else \"Odd\"\n",
    "print(result)  # Output: Odd"
   ]
  },
  {
   "cell_type": "code",
   "execution_count": 14,
   "id": "227eed69-94f1-463c-92c4-20badb5d9c90",
   "metadata": {},
   "outputs": [
    {
     "name": "stdout",
     "output_type": "stream",
     "text": [
      "[1, 3, 5, 7, 9]\n"
     ]
    }
   ],
   "source": [
    "numbers = [1, 2, 3, 4, 5, 6, 7, 8, 9, 10]\n",
    "\n",
    "result = list(filter(lambda x: x % 2 != 0, numbers))\n",
    "print(result)  # Output: [1, 3, 5, 7, 9]"
   ]
  },
  {
   "cell_type": "code",
   "execution_count": 15,
   "id": "99bde70b-7bcc-4568-ba42-64aac93c5211",
   "metadata": {},
   "outputs": [
    {
     "name": "stdout",
     "output_type": "stream",
     "text": [
      "[1, 2, 3, 4, 5, 6]\n",
      "[-1, -2, -3, -4, -5]\n"
     ]
    }
   ],
   "source": [
    "numbers = [1, 2, 3, 4, 5, 6, -1, -2, -3, -4, -5, 0]\n",
    "\n",
    "positive_nums = list(filter(lambda x: x > 0, numbers))\n",
    "negative_nums = list(filter(lambda x: x < 0, numbers))\n",
    "\n",
    "print(positive_nums)  # Output: [1, 2, 3, 4, 5, 6]\n",
    "print(negative_nums)  # Output: [-1, -2, -3, -4, -5]"
   ]
  }
 ],
 "metadata": {
  "kernelspec": {
   "display_name": "Python 3 (ipykernel)",
   "language": "python",
   "name": "python3"
  },
  "language_info": {
   "codemirror_mode": {
    "name": "ipython",
    "version": 3
   },
   "file_extension": ".py",
   "mimetype": "text/x-python",
   "name": "python",
   "nbconvert_exporter": "python",
   "pygments_lexer": "ipython3",
   "version": "3.10.8"
  }
 },
 "nbformat": 4,
 "nbformat_minor": 5
}
