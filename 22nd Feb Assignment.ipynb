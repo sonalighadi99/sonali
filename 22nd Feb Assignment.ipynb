{
 "cells": [
  {
   "cell_type": "markdown",
   "id": "b424c680-dab4-4851-aa35-4b52a8be06df",
   "metadata": {},
   "source": [
    "1. Create a Pandas Series that contains the following data: 4, 8, 15, 16, 23, and 42. Then, print the series."
   ]
  },
  {
   "cell_type": "code",
   "execution_count": 2,
   "id": "86679fbc-c72f-426e-a270-55bc38045069",
   "metadata": {},
   "outputs": [
    {
     "name": "stdout",
     "output_type": "stream",
     "text": [
      "0     4\n",
      "1     8\n",
      "2    15\n",
      "3    16\n",
      "4    23\n",
      "5    42\n",
      "dtype: int64\n"
     ]
    }
   ],
   "source": [
    "import pandas as pd\n",
    "\n",
    "data = [4, 8, 15, 16, 23, 42]\n",
    "series = pd.Series(data)\n",
    "\n",
    "print(series)"
   ]
  },
  {
   "cell_type": "markdown",
   "id": "fa976b30-d585-415e-9377-9104a799ab50",
   "metadata": {},
   "source": [
    "2. Create a variable of list type containing 10 elements in it, and apply pandas.Series function on the\n",
    "variable print it."
   ]
  },
  {
   "cell_type": "code",
   "execution_count": 4,
   "id": "810bf230-55e9-4aec-8978-8ed0d74025aa",
   "metadata": {},
   "outputs": [
    {
     "name": "stdout",
     "output_type": "stream",
     "text": [
      "0     1\n",
      "1     2\n",
      "2     3\n",
      "3     4\n",
      "4     5\n",
      "5     6\n",
      "6     7\n",
      "7     8\n",
      "8     9\n",
      "9    10\n",
      "dtype: int64\n"
     ]
    }
   ],
   "source": [
    "import pandas as pd\n",
    "\n",
    "my_list = [1, 2, 3, 4, 5, 6, 7, 8, 9, 10]\n",
    "series = pd.Series(my_list)\n",
    "\n",
    "print(series)"
   ]
  },
  {
   "cell_type": "markdown",
   "id": "21393f6e-f2b7-46ef-9c65-974684b81c1e",
   "metadata": {},
   "source": [
    "3. Create a Pandas DataFrame that contains the following data:\n",
    "\n",
    "Then, print the DataFrame."
   ]
  },
  {
   "cell_type": "code",
   "execution_count": 5,
   "id": "3c790601-7e21-4416-971f-0d79053274b4",
   "metadata": {},
   "outputs": [
    {
     "name": "stdout",
     "output_type": "stream",
     "text": [
      "     Name  Age  Gender\n",
      "0   Alice   25  Female\n",
      "1     Bob   30    Male\n",
      "2  Claire   27  Female\n"
     ]
    }
   ],
   "source": [
    "import pandas as pd\n",
    "\n",
    "data = {\n",
    "    'Name': ['Alice', 'Bob', 'Claire'],\n",
    "    'Age': [25, 30, 27],\n",
    "    'Gender': ['Female', 'Male', 'Female']\n",
    "}\n",
    "\n",
    "df = pd.DataFrame(data)\n",
    "print(df)"
   ]
  },
  {
   "cell_type": "markdown",
   "id": "599da8de-99e5-40f2-b0b9-0e40288011ab",
   "metadata": {},
   "source": [
    "Q4. What is ‘DataFrame’ in pandas and how is it different from pandas.series? Explain with an example."
   ]
  },
  {
   "cell_type": "markdown",
   "id": "746877e7-de88-4acf-841d-b687bd26e4aa",
   "metadata": {},
   "source": [
    "In pandas, a DataFrame is a 2-dimensional labeled data structure that consists of columns and rows. It can be thought of as a table or spreadsheet-like data structure where each column represents a variable or feature, and each row represents an observation or data point. It provides a convenient way to store, manipulate, and analyze structured data.\n",
    "\n",
    "A Pandas Series, on the other hand, is a one-dimensional labeled array capable of holding data of any type. It can be seen as a single column of a DataFrame. A Series is labeled, meaning it has an index that can be used to access and align data, similar to a dictionary.\n",
    "\n",
    "Here's an example to illustrate the difference between a DataFrame and a Series:"
   ]
  },
  {
   "cell_type": "code",
   "execution_count": 6,
   "id": "d1b99b80-d189-4538-9027-e9a6abdf7321",
   "metadata": {},
   "outputs": [
    {
     "name": "stdout",
     "output_type": "stream",
     "text": [
      "DataFrame:\n",
      "     Name  Age  Gender\n",
      "0   Alice   25  Female\n",
      "1     Bob   30    Male\n",
      "2  Claire   27  Female\n",
      "\n",
      "Series:\n",
      "0     Alice\n",
      "1       Bob\n",
      "2    Claire\n",
      "Name: Name, dtype: object\n"
     ]
    }
   ],
   "source": [
    "import pandas as pd\n",
    "\n",
    "# Example DataFrame\n",
    "data = {\n",
    "    'Name': ['Alice', 'Bob', 'Claire'],\n",
    "    'Age': [25, 30, 27],\n",
    "    'Gender': ['Female', 'Male', 'Female']\n",
    "}\n",
    "\n",
    "df = pd.DataFrame(data)\n",
    "\n",
    "# Example Series\n",
    "name_series = df['Name']\n",
    "\n",
    "print(\"DataFrame:\")\n",
    "print(df)\n",
    "print()\n",
    "print(\"Series:\")\n",
    "print(name_series)"
   ]
  },
  {
   "cell_type": "markdown",
   "id": "b559f9da-e65b-44a3-b24a-bbf2f651a609",
   "metadata": {},
   "source": [
    "Q5. What are some common functions you can use to manipulate data in a Pandas DataFrame? Can\n",
    "you give an example of when you might use one of these functions?"
   ]
  },
  {
   "cell_type": "raw",
   "id": "79502212-65ed-45ff-9652-2723fc8454b1",
   "metadata": {},
   "source": [
    "Pandas provides a wide range of functions to manipulate data in a DataFrame. Here are some common functions:\n",
    "\n",
    "head() and tail(): These functions allow you to preview the first few rows (head()) or last few rows (tail()) of the DataFrame. They are useful for quickly inspecting the data.\n",
    "\n",
    "shape: Returns the dimensions of the DataFrame as a tuple (rows, columns). It helps you understand the size of the DataFrame.\n",
    "\n",
    "info(): Provides a summary of the DataFrame, including the data types, non-null values, and memory usage. It is useful for getting a high-level overview of the DataFrame's structure.\n",
    "\n",
    "describe(): Generates descriptive statistics of the numerical columns in the DataFrame, such as count, mean, standard deviation, minimum, maximum, and quartiles. It helps in understanding the distribution and summary statistics of the data.\n",
    "\n",
    "unique(), nunique(), and value_counts(): These functions are useful for analyzing categorical data. unique() returns an array of unique values, nunique() returns the number of unique values, and value_counts() returns the frequency count of each unique value.\n",
    "\n",
    "sort_values(): Sorts the DataFrame by one or more columns in either ascending or descending order. It is helpful for arranging data based on specific criteria.\n",
    "\n",
    "groupby(): Groups the DataFrame by one or more columns and allows you to perform aggregate functions on the grouped data. It is used for tasks like calculating group-wise statistics or applying custom functions.\n",
    "\n",
    "fillna(): Fills missing values (NaN or None) in the DataFrame with a specified value or using various filling methods such as forward filling or backward filling.\n",
    "\n",
    "drop(): Removes rows or columns from the DataFrame based on specified labels or conditions. It is useful for data cleaning or removing unnecessary data.\n",
    "\n",
    "apply(): Applies a function to each element, row, or column of the DataFrame. It enables custom data transformations or calculations.\n",
    "\n",
    "Here's an example to illustrate the use of one of these functions. Let's say you have a DataFrame called df with a 'Sales' column, and you want to calculate the total sales. You can use the sum() function along with apply() to achieve this:"
   ]
  },
  {
   "cell_type": "code",
   "execution_count": 7,
   "id": "00ae0eb9-3abf-46b9-b8d4-671ff051be3f",
   "metadata": {},
   "outputs": [
    {
     "name": "stdout",
     "output_type": "stream",
     "text": [
      "Total Sales: 570\n"
     ]
    }
   ],
   "source": [
    "import pandas as pd\n",
    "\n",
    "# Example DataFrame\n",
    "data = {\n",
    "    'Product': ['A', 'B', 'C', 'D'],\n",
    "    'Sales': [100, 150, 200, 120]\n",
    "}\n",
    "\n",
    "df = pd.DataFrame(data)\n",
    "\n",
    "# Calculate total sales\n",
    "total_sales = df['Sales'].sum()\n",
    "\n",
    "print(\"Total Sales:\", total_sales)"
   ]
  },
  {
   "cell_type": "markdown",
   "id": "666985b2-cfd1-4b63-a561-4e1fe12a0e38",
   "metadata": {},
   "source": [
    "Q6. Which of the following is mutable in nature Series, DataFrame, Panel?"
   ]
  },
  {
   "cell_type": "raw",
   "id": "e4de27ff-f85b-4854-9e51-6c2f56b41d2b",
   "metadata": {},
   "source": [
    "Among the options provided, both Series and DataFrame are mutable in nature, while Panel is not.\n",
    "\n",
    "In pandas, a mutable object can be modified or changed after it is created. Let's take a closer look at each of these objects:\n",
    "\n",
    "Series: A Pandas Series is mutable, meaning you can modify its elements, reassign values, or add/remove elements. For example, you can change the value of a specific element in a Series or append new values to it.\n",
    "\n",
    "DataFrame: Similar to a Series, a Pandas DataFrame is mutable. You can modify its columns, update values, add or remove columns and rows, or perform various data manipulations. DataFrame offers a variety of methods and functions to modify the structure and content of the DataFrame.\n",
    "\n",
    "Panel: A Panel is a 3-dimensional data structure in pandas, but it has been deprecated since version 0.20.0. Panels were used to represent heterogeneous data containing multiple DataFrames. However, due to limited use and complexity, Panels are no longer recommended for most use cases. Panels are not mutable in nature.\n",
    "\n",
    "Therefore, the correct answer to your question is that Series and DataFrame are mutable, while Panel is not."
   ]
  },
  {
   "cell_type": "markdown",
   "id": "ad732682-3e2d-4f10-967d-ef6c15e92512",
   "metadata": {},
   "source": [
    "Q7. Create a DataFrame using multiple Series. Explain with an example."
   ]
  },
  {
   "cell_type": "raw",
   "id": "e83dbb75-3e53-455e-b9f9-be148fedf25f",
   "metadata": {},
   "source": [
    "You can create a DataFrame using multiple Series by combining them together. Each Series will represent a column in the DataFrame."
   ]
  },
  {
   "cell_type": "code",
   "execution_count": null,
   "id": "82cbef16-aca5-4b8a-8253-75996b2ac9e1",
   "metadata": {},
   "outputs": [],
   "source": []
  }
 ],
 "metadata": {
  "kernelspec": {
   "display_name": "Python 3 (ipykernel)",
   "language": "python",
   "name": "python3"
  },
  "language_info": {
   "codemirror_mode": {
    "name": "ipython",
    "version": 3
   },
   "file_extension": ".py",
   "mimetype": "text/x-python",
   "name": "python",
   "nbconvert_exporter": "python",
   "pygments_lexer": "ipython3",
   "version": "3.10.8"
  }
 },
 "nbformat": 4,
 "nbformat_minor": 5
}
