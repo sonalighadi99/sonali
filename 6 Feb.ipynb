{
 "cells": [
  {
   "cell_type": "markdown",
   "id": "95d04723-cbb3-4e23-a360-e41ad0b97936",
   "metadata": {},
   "source": [
    "Q1. Create a function which will take a list as an argument and return the product of all the numbers\n",
    "after creating a flat list.\n",
    "Use the below-given list as an argument for your function.\n",
    "list1 = [1,2,3,4, [44,55,66, True], False, (34,56,78,89,34), {1,2,3,3,2,1}, {1:34, \"key2\": [55, 67, 78, 89], 4: (45,\n",
    "22, 61, 34)}, [56, 'data science'], 'Machine Learning']\n",
    "Note: you must extract numeric keys and values of the dictionary also."
   ]
  },
  {
   "cell_type": "code",
   "execution_count": 2,
   "id": "0d8b5754-6ce9-4295-b565-170215029367",
   "metadata": {},
   "outputs": [
    {
     "name": "stdout",
     "output_type": "stream",
     "text": [
      "0\n"
     ]
    }
   ],
   "source": [
    "def calculate_product(lst):\n",
    "    flat_list = []\n",
    "\n",
    "    def extract_numbers(item):\n",
    "        if isinstance(item, (int, float)):\n",
    "            flat_list.append(item)\n",
    "        elif isinstance(item, list) or isinstance(item, tuple) or isinstance(item, set):\n",
    "            for i in item:\n",
    "                extract_numbers(i)\n",
    "        elif isinstance(item, dict):\n",
    "            for value in item.values():\n",
    "                extract_numbers(value)\n",
    "\n",
    "    for item in lst:\n",
    "        extract_numbers(item)\n",
    "\n",
    "    product = 1\n",
    "    for num in flat_list:\n",
    "        product *= num\n",
    "\n",
    "    return product\n",
    "\n",
    "# Example usage\n",
    "list1 = [1,2,3,4, [44,55,66, True], False, (34,56,78,89,34), {1,2,3,3,2,1}, {1:34, \"key2\": [55, 67, 78, 89], 4: (45, 22, 61, 34)}, [56, 'data science'], 'Machine Learning']\n",
    "result = calculate_product(list1)\n",
    "print(result)\n"
   ]
  },
  {
   "cell_type": "markdown",
   "id": "f4c11699-2214-47b7-879a-7a4c4b39fb87",
   "metadata": {},
   "source": [
    "Q2. Write a python program for encrypting a message sent to you by your friend. The logic of encryption\n",
    "should be such that, for a the output should be z. For b, the output should be y. For c, the output should\n",
    "be x respectively. Also, the whitespace should be replaced with a dollar sign. Keep the punctuation\n",
    "marks unchanged.\n",
    "Input Sentence: I want to become a Data Scientist.\n",
    "Encrypt the above input sentence using the program you just created.\n",
    "Note: Convert the given input sentence into lowercase before encrypting. The final output should be\n",
    "lowercase."
   ]
  },
  {
   "cell_type": "code",
   "execution_count": 3,
   "id": "8251342f-2b3c-4a23-8fa8-076bfa50ecec",
   "metadata": {},
   "outputs": [
    {
     "name": "stdout",
     "output_type": "stream",
     "text": [
      "r$dzmg$gl$yvxlnv$z$wzgz$hxrvmgrhg.\n"
     ]
    }
   ],
   "source": [
    "def encrypt_message(message):\n",
    "    encrypted_message = \"\"\n",
    "    for char in message.lower():\n",
    "        if char.isalpha():\n",
    "            encrypted_char = chr(219 - ord(char))  # Encryption logic: z = a + 25, y = b + 24, x = c + 23, ...\n",
    "            encrypted_message += encrypted_char\n",
    "        elif char.isspace():\n",
    "            encrypted_message += '$'  # Replace whitespace with a dollar sign\n",
    "        else:\n",
    "            encrypted_message += char  # Preserve punctuation marks\n",
    "\n",
    "    return encrypted_message\n",
    "\n",
    "# Example usage\n",
    "input_sentence = \"I want to become a Data Scientist.\"\n",
    "encrypted_sentence = encrypt_message(input_sentence)\n",
    "print(encrypted_sentence)\n"
   ]
  },
  {
   "cell_type": "code",
   "execution_count": null,
   "id": "19f68a81-2310-4535-a7d9-f44534c88417",
   "metadata": {},
   "outputs": [],
   "source": []
  }
 ],
 "metadata": {
  "kernelspec": {
   "display_name": "Python 3 (ipykernel)",
   "language": "python",
   "name": "python3"
  },
  "language_info": {
   "codemirror_mode": {
    "name": "ipython",
    "version": 3
   },
   "file_extension": ".py",
   "mimetype": "text/x-python",
   "name": "python",
   "nbconvert_exporter": "python",
   "pygments_lexer": "ipython3",
   "version": "3.10.8"
  }
 },
 "nbformat": 4,
 "nbformat_minor": 5
}
