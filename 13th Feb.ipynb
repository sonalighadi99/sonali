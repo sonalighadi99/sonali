{
 "cells": [
  {
   "cell_type": "raw",
   "id": "fa86fb80-b65a-43b9-9c70-dadb9221b333",
   "metadata": {},
   "source": [
    "Q1. Explain why we have to use the Exception class while creating a Custom Exception."
   ]
  },
  {
   "cell_type": "markdown",
   "id": "978ea554-5bee-4cfd-b786-c3e833801ac9",
   "metadata": {},
   "source": [
    "In Python, when creating a custom exception, it is recommended to inherit from the built-in Exception class or one of its \n",
    "subclasses, such as BaseException, RuntimeError, or ValueError. Using the Exception class as a base for your custom exception \n",
    "offers several advantages:\n",
    "\n",
    "Consistency with Existing Exception Hierarchy: Python's exception hierarchy is organized with BaseException at the top, \n",
    "followed by Exception, and then various more specific exception classes. Inheriting from Exception ensures that your custom \n",
    "exception fits into this hierarchy in a logical way. This consistency makes it easier for others (including yourself) to \n",
    "understand where your custom exception fits in the context of Python's exception system.\n",
    "\n",
    "Broad Catchability: Inheriting from Exception allows your custom exception to be caught using a generic except block that\n",
    "catches all exceptions derived from Exception. This is useful when you want to catch any custom exceptions along with built-in\n",
    "exceptions in a single catch block.\n",
    "\n",
    "python\n",
    "Copy code\n",
    "try:\n",
    "    # Code that may raise custom or built-in exceptions\n",
    "except Exception as e:\n",
    "    # Handle exceptions here\n",
    "Clarity and Intention: When you create a custom exception by inheriting from Exception, it explicitly communicates your \n",
    "intention that this class represents an exception. This makes the code more readable and self-explanatory to others who might\n",
    "read or maintain your code.\n",
    "\n",
    "Avoiding Ambiguity: Inheriting from Exception helps avoid ambiguity and potential conflicts with other custom exceptions or \n",
    "built-in exceptions that might be defined in your codebase or imported from libraries. By inheriting from Exception, you make \n",
    "it clear that your class is intended to represent an exception.\n",
    "\n",
    "Compatibility: Some tools, libraries, or frameworks may expect custom exceptions to inherit from Exception or its subclasses.\n",
    "Using Exception ensures compatibility with such tools and practices.\n",
    "\n",
    "Here's an example of creating a custom exception by inheriting from Exception:\n",
    "class MyCustomException(Exception):\n",
    "    def __init__(self, message):\n",
    "        super().__init__(message)\n",
    "\n",
    "try:\n",
    "    raise MyCustomException(\"This is a custom exception.\")\n",
    "except MyCustomException as e:\n",
    "    print(f\"Caught custom exception: {e}\")\n",
    "In summary, while it's technically possible to create custom exceptions without inheriting from Exception,\n",
    "doing so is considered a best practice because it aligns with the established exception hierarchy, provides clarity, and \n",
    "ensures compatibility and consistency in exception handling within Python codebases."
   ]
  },
  {
   "cell_type": "raw",
   "id": "632c462c-c0f6-41f4-bbf7-8c42b9bdfaa9",
   "metadata": {},
   "source": [
    "Q2. Write a python program to print Python Exception Hierarchy."
   ]
  },
  {
   "cell_type": "markdown",
   "id": "ea67af0a-cb7f-4cea-921e-771c2ae4b0ba",
   "metadata": {},
   "source": [
    "This program defines a recursive function print_exception_hierarchy() that takes an exception class as an argument and prints \n",
    "its name. It then iterates through the subclasses of that exception class and recursively prints their names with increased \n",
    "indentation. Starting from the Exception class, this program traverses the entire exception hierarchy.\n",
    "\n",
    "When you run the program, it will print a simplified representation of the Python exception hierarchy, including both built-in \n",
    "exceptions and any custom exceptions that inherit from Exception."
   ]
  },
  {
   "cell_type": "code",
   "execution_count": null,
   "id": "c5a3fe72-8ed4-48f7-9b67-637d1ab6bc95",
   "metadata": {},
   "outputs": [],
   "source": [
    "def print_exception_hierarchy(exception_class, indent=0):\n",
    "    print(\"  \" * indent + exception_class.__name__)\n",
    "    for sub_exception in exception_class.__subclasses__():\n",
    "        print_exception_hierarchy(sub_exception, indent + 1)\n",
    "\n",
    "# Start from the base Exception class\n",
    "print(\"Python Exception Hierarchy:\")\n",
    "print_exception_hierarchy(Exception)"
   ]
  },
  {
   "cell_type": "raw",
   "id": "1dbb04fd-4bb3-4bbc-bb16-fbacea8f44d0",
   "metadata": {},
   "source": [
    "Q3. What errors are defined in the ArithmeticError class? Explain any two with an example."
   ]
  },
  {
   "cell_type": "markdown",
   "id": "b40638cf-78f7-474d-bf88-51c9617502e6",
   "metadata": {},
   "source": [
    "In Python, the ArithmeticError class is the base class for exceptions that are raised for various arithmetic errors. \n",
    "It serves as a parent class for several specific arithmetic exception classes. Two common exceptions derived from \n",
    "ArithmeticError are ZeroDivisionError and OverflowError. Let's explain these two exceptions with examples:\n",
    "\n",
    "ZeroDivisionError:\n",
    "\n",
    "ZeroDivisionError is raised when attempting to divide a number by zero, which is mathematically undefined.\n",
    "This exception occurs when the denominator in a division operation is zero."
   ]
  },
  {
   "cell_type": "code",
   "execution_count": null,
   "id": "d42b2e1c-9f2b-4ba0-9221-3387bcaabf9a",
   "metadata": {},
   "outputs": [],
   "source": [
    "try:\n",
    "    result = 10 / 0  # Division by zero\n",
    "except ZeroDivisionError as e:\n",
    "    print(f\"Caught ZeroDivisionError: {e}\")\n"
   ]
  },
  {
   "cell_type": "markdown",
   "id": "aa0d24e3-85bb-412d-bfea-9bd0b9285352",
   "metadata": {},
   "source": [
    "OverflowError:\n",
    "\n",
    "OverflowError is raised when an arithmetic operation exceeds the limits of the data type used.\n",
    "This exception occurs when trying to perform an operation that results in a number too large or too small to be represented by \n",
    "the available memory."
   ]
  },
  {
   "cell_type": "code",
   "execution_count": null,
   "id": "efe77d6c-ce1c-46a5-9232-c2de6753d12b",
   "metadata": {},
   "outputs": [],
   "source": [
    "try:\n",
    "    result = 10 ** 1000  # Exponentiation leading to OverflowError\n",
    "except OverflowError as e:\n",
    "    print(f\"Caught OverflowError: {e}\")\n"
   ]
  },
  {
   "cell_type": "raw",
   "id": "35a46267-180c-45e0-a76b-d33025404058",
   "metadata": {},
   "source": [
    "Q4. Why LookupError class is used? Explain with an example KeyError and IndexError."
   ]
  },
  {
   "cell_type": "markdown",
   "id": "19fb3813-9189-4682-9059-d6e63ce8194d",
   "metadata": {},
   "source": [
    "The LookupError class in Python is a base class for exceptions that are raised when a key or index is not found during a lookup operation. It serves as a parent class for several specific lookup-related exception classes. Two common exceptions derived from LookupError are KeyError and IndexError. Let's explain these two exceptions with examples:\n",
    "\n",
    "KeyError:\n",
    "\n",
    "KeyError is raised when you try to access a dictionary using a key that does not exist in the dictionary.\n",
    "This exception occurs when you attempt to retrieve a value associated with a key that is not present in the dictionary."
   ]
  },
  {
   "cell_type": "code",
   "execution_count": null,
   "id": "d073b211-909d-4041-b88b-2189f0964078",
   "metadata": {},
   "outputs": [],
   "source": [
    "my_dict = {'name': 'Alice', 'age': 30}\n",
    "\n",
    "try:\n",
    "    value = my_dict['city']  # 'city' key does not exist\n",
    "except KeyError as e:\n",
    "    print(f\"Caught KeyError: {e}\")\n"
   ]
  },
  {
   "cell_type": "markdown",
   "id": "fd979215-5963-41be-9f8f-82c53ce06928",
   "metadata": {},
   "source": [
    "IndexError:\n",
    "\n",
    "IndexError is raised when you try to access an element of a sequence (e.g., a list or tuple) using an index that is out of range.\n",
    "This exception occurs when you attempt to access an element at an index that does not exist in the sequence."
   ]
  },
  {
   "cell_type": "code",
   "execution_count": null,
   "id": "139b9775-7921-4b43-82cb-d708c4cc0a11",
   "metadata": {},
   "outputs": [],
   "source": [
    "my_list = [1, 2, 3]\n",
    "\n",
    "try:\n",
    "    value = my_list[4]  # Index 4 is out of range\n",
    "except IndexError as e:\n",
    "    print(f\"Caught IndexError: {e}\")\n"
   ]
  },
  {
   "cell_type": "raw",
   "id": "1437e8a6-53de-474c-8ce4-193d7e7fb34c",
   "metadata": {},
   "source": [
    "Q5. Explain ImportError. What is ModuleNotFoundError?"
   ]
  },
  {
   "cell_type": "markdown",
   "id": "819bbfe5-d994-4eb8-9aa0-793927150ae6",
   "metadata": {},
   "source": [
    "In Python, ImportError and ModuleNotFoundError are exceptions that occur when there are issues with importing modules or packages into your Python code.\n",
    "\n",
    "ImportError:\n",
    "\n",
    "ImportError is a base class for exceptions related to importing modules. It is raised when there is a problem with importing a module, but the specific issue is not specified.\n",
    "This exception can occur for various reasons, such as:\n",
    "The requested module does not exist or cannot be found.\n",
    "There is an issue with the module's syntax or content.\n",
    "Circular imports or other import-related problems."
   ]
  },
  {
   "cell_type": "code",
   "execution_count": null,
   "id": "4cdec716-ff66-48a3-b7e6-daf5765c0640",
   "metadata": {},
   "outputs": [],
   "source": [
    "try:\n",
    "    import non_existent_module\n",
    "except ImportError as e:\n",
    "    print(f\"Caught ImportError: {e}\")\n"
   ]
  },
  {
   "cell_type": "markdown",
   "id": "45f7febc-bf8f-4b81-bac7-8bcd1e0c65cd",
   "metadata": {},
   "source": [
    "ModuleNotFoundError:\n",
    "\n",
    "ModuleNotFoundError is a subclass of ImportError. It is specifically raised when Python is unable to locate and import a requested module because the module itself does not exist.\n",
    "This exception was introduced in Python 3.6 to provide a more precise error message when a module cannot be found."
   ]
  },
  {
   "cell_type": "code",
   "execution_count": null,
   "id": "522a43de-0365-4a24-a5bc-60b38ec1a69e",
   "metadata": {},
   "outputs": [],
   "source": [
    "try:\n",
    "    import non_existent_module\n",
    "except ModuleNotFoundError as e:\n",
    "    print(f\"Caught ModuleNotFoundError: {e}\")\n"
   ]
  },
  {
   "cell_type": "raw",
   "id": "cd3478fe-c89e-4df9-bc55-a20f24975a72",
   "metadata": {},
   "source": [
    "Q6. List down some best practices for exception handling in python."
   ]
  },
  {
   "cell_type": "code",
   "execution_count": null,
   "id": "78d7cd3d-838c-44c7-b176-e75c94982c80",
   "metadata": {},
   "outputs": [],
   "source": [
    "Exception handling is an essential part of writing robust and maintainable Python code. Here are some best practices for exception handling in Python:\n",
    "\n",
    "Use Specific Exception Types: Catch and handle specific exceptions rather than using a broad except block. This helps you identify and handle different types of errors appropriately. Avoid catching Exception unless necessary.\n",
    "\n",
    "Handle Exceptions Gracefully: Provide clear and informative error messages when handling exceptions. This helps with debugging and provides useful information to users.\n",
    "\n",
    "Avoid Empty except Blocks: Avoid using empty except blocks (except:) as they can hide errors and make debugging difficult. If you need to catch and ignore an exception, explicitly mention it in a comment."
   ]
  }
 ],
 "metadata": {
  "kernelspec": {
   "display_name": "Python 3 (ipykernel)",
   "language": "python",
   "name": "python3"
  },
  "language_info": {
   "codemirror_mode": {
    "name": "ipython",
    "version": 3
   },
   "file_extension": ".py",
   "mimetype": "text/x-python",
   "name": "python",
   "nbconvert_exporter": "python",
   "pygments_lexer": "ipython3",
   "version": "3.10.8"
  }
 },
 "nbformat": 4,
 "nbformat_minor": 5
}
