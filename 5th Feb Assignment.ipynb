{
 "cells": [
  {
   "cell_type": "markdown",
   "id": "5faa5a8d-3102-4192-ae19-045274c7fa4a",
   "metadata": {},
   "source": [
    "Q1. Explain Class and Object with respect to Object-Oriented Programming. Give a suitable example."
   ]
  },
  {
   "cell_type": "markdown",
   "id": "154e575d-bcb8-4941-b9e8-5fb880a8d401",
   "metadata": {},
   "source": [
    "In object-oriented programming (OOP), a class is a blueprint or template that defines the structure and behavior of objects. It serves as a blueprint for creating multiple instances of objects with similar characteristics. A class encapsulates data and functions that define the behavior and interactions of objects created from it.\n",
    "\n",
    "An object, on the other hand, is an instance of a class. It represents a specific entity or concept based on the class blueprint. Objects have their own unique data and can perform actions defined by the class methods. They can interact with other objects and manipulate their own internal state.\n",
    "\n",
    "In the example below, we define a `Car` class with attributes like `make`, `model`, `year`, and a method `start_engine`, `stop_engine`, and `drive`. Each method represents a behavior/action of the car object. The `__init__` method is a special method called the constructor, which initializes the attributes when an object is created.\n",
    "\n",
    "We then create two instances of the `Car` class named `car1` and `car2`. These objects have their own unique values for the attributes `make`, `model`, and `year`. We can access and modify these attributes of each object independently.\n",
    "\n",
    "By calling the methods on the objects, such as `start_engine()`, `stop_engine()`, and `drive()`, we can perform actions specific to each object. Each object maintains its own internal state, like whether the engine is on or off, and behaves accordingly.\n",
    "\n",
    "In summary, a class provides a blueprint that defines the structure and behavior of objects, while objects are instances created from the class that have their own unique data and can perform actions defined by the class methods."
   ]
  },
  {
   "cell_type": "code",
   "execution_count": 8,
   "id": "6a4b217a-9954-4d7f-b98f-567930346e8c",
   "metadata": {},
   "outputs": [
    {
     "name": "stdout",
     "output_type": "stream",
     "text": [
      "Toyota Camry 2022\n",
      "Honda Civic 2021\n",
      "Engine started.\n",
      "Car is driving.\n",
      "Engine started.\n",
      "Engine stopped.\n"
     ]
    }
   ],
   "source": [
    "class Car:\n",
    "    def __init__(self, make, model, year):\n",
    "        self.make = make\n",
    "        self.model = model\n",
    "        self.year = year\n",
    "        self.is_engine_on = False\n",
    "\n",
    "    def start_engine(self):\n",
    "        self.is_engine_on = True\n",
    "        print(\"Engine started.\")\n",
    "\n",
    "    def stop_engine(self):\n",
    "        self.is_engine_on = False\n",
    "        print(\"Engine stopped.\")\n",
    "\n",
    "    def drive(self):\n",
    "        if self.is_engine_on:\n",
    "            print(\"Car is driving.\")\n",
    "        else:\n",
    "            print(\"Cannot drive. Start the engine first.\")\n",
    "\n",
    "\n",
    "# Creating objects/instances of the Car class\n",
    "car1 = Car(\"Toyota\", \"Camry\", 2022)\n",
    "car2 = Car(\"Honda\", \"Civic\", 2021)\n",
    "\n",
    "# Accessing object attributes\n",
    "print(car1.make, car1.model, car1.year)  # Output: Toyota Camry 2022\n",
    "print(car2.make, car2.model, car2.year)  # Output: Honda Civic 2021\n",
    "\n",
    "# Calling object methods\n",
    "car1.start_engine()  # Output: Engine started.\n",
    "car1.drive()         # Output: Car is driving.\n",
    "\n",
    "car2.start_engine()  # Output: Engine started.\n",
    "car2.stop_engine()   # Output: Engine stopped.\n"
   ]
  },
  {
   "cell_type": "markdown",
   "id": "28273171-47f0-450d-b663-24414e095a0f",
   "metadata": {},
   "source": [
    "Q2. Name the four pillars of OOPs."
   ]
  },
  {
   "cell_type": "markdown",
   "id": "692eef7d-14c1-4b47-b01c-ececda974ac3",
   "metadata": {},
   "source": [
    "The four pillars of object-oriented programming (OOP) are:\n",
    "\n",
    "1. Encapsulation: Encapsulation refers to the bundling of data and methods (behavior) within a class. It hides the internal details and implementation of an object from the outside world. Encapsulation helps in achieving data abstraction, data protection, and modularity. It allows objects to interact with each other through well-defined interfaces.\n",
    "\n",
    "2. Inheritance: Inheritance is a mechanism in which one class inherits properties and behavior from another class. It allows the creation of a new class (derived class) by inheriting the characteristics of an existing class (base class or superclass). Inheritance promotes code reuse, enhances code organization, and enables the creation of a hierarchical structure of classes with increasing levels of specialization.\n",
    "\n",
    "3. Polymorphism: Polymorphism means the ability of an object to take on different forms or have multiple behaviors. It allows objects of different classes to be treated as objects of a common superclass. Polymorphism enables the same method name to be used for different classes, and the appropriate method is dynamically selected based on the type of the object at runtime. It facilitates code flexibility, extensibility, and modularity.\n",
    "\n",
    "4. Abstraction: Abstraction refers to the process of representing complex real-world entities as simplified models within the program. It focuses on essential features and hides unnecessary details. Abstraction helps in managing complexity, improving maintainability, and promoting code reusability. It allows programmers to create abstract classes and interfaces to define common behavior and properties that can be inherited and implemented by concrete classes.\n",
    "\n",
    "These four pillars form the foundation of object-oriented programming and provide principles and concepts for designing, implementing, and managing code in an organized and efficient manner."
   ]
  },
  {
   "cell_type": "markdown",
   "id": "2333fe96-f00b-465e-bb83-9d49ee6ac73a",
   "metadata": {},
   "source": [
    "Q3. Explain why the __init__() function is used. Give a suitable example."
   ]
  },
  {
   "cell_type": "markdown",
   "id": "48fad9e7-55b2-4f68-a87c-f5231593c9f3",
   "metadata": {},
   "source": [
    "The `__init__()` function is a special method in Python classes that is used for initializing the object's attributes or state. It is automatically called when an object is created from a class and allows you to set the initial values of the object's attributes.\n",
    "\n",
    "In the below example, we have a `Person` class with attributes `name` and `age`, and a method `introduce()` to introduce the person. The `__init__()` function is defined within the class to initialize the `name` and `age` attributes of each person object.\n",
    "\n",
    "When an object of the `Person` class is created, the `__init__()` function is automatically called. It takes the arguments `name` and `age`, and assigns them to the corresponding attributes `self.name` and `self.age` using the `self` parameter, which refers to the object being created.\n",
    "\n",
    "By using the `__init__()` function, we can ensure that each person object is created with the required attributes set to the desired initial values. This allows us to create and initialize objects with specific attribute values in a convenient and organized manner.\n",
    "\n",
    "In summary, the `__init__()` function is used to initialize the attributes of an object when it is created. It allows you to set the initial state of the object and ensures that the necessary attributes are present and properly initialized before the object can be used."
   ]
  },
  {
   "cell_type": "code",
   "execution_count": 9,
   "id": "a21549e3-f0dc-406b-8dea-df9f7ddb24ff",
   "metadata": {},
   "outputs": [
    {
     "name": "stdout",
     "output_type": "stream",
     "text": [
      "Alice\n",
      "30\n",
      "Hi, my name is Alice and I'm 25 years old.\n",
      "Hi, my name is Bob and I'm 30 years old.\n"
     ]
    }
   ],
   "source": [
    "class Person:\n",
    "    def __init__(self, name, age):\n",
    "        self.name = name\n",
    "        self.age = age\n",
    "\n",
    "    def introduce(self):\n",
    "        print(f\"Hi, my name is {self.name} and I'm {self.age} years old.\")\n",
    "\n",
    "\n",
    "# Create objects of the Person class\n",
    "person1 = Person(\"Alice\", 25)\n",
    "person2 = Person(\"Bob\", 30)\n",
    "\n",
    "# Access and print object attributes\n",
    "print(person1.name)  # Output: Alice\n",
    "print(person2.age)   # Output: 30\n",
    "\n",
    "# Call object method\n",
    "person1.introduce()  # Output: Hi, my name is Alice and I'm 25 years old.\n",
    "person2.introduce()  # Output: Hi, my name is Bob and I'm 30 years old."
   ]
  },
  {
   "cell_type": "markdown",
   "id": "1bada04d-bceb-4513-95c8-8f9ac59af6b2",
   "metadata": {},
   "source": [
    "Q4. Why self is used in OOPs?"
   ]
  },
  {
   "cell_type": "markdown",
   "id": "fe286c17-7a2a-4277-aa19-215138c6ad37",
   "metadata": {},
   "source": [
    "In object-oriented programming (OOP), `self` is a conventionally used parameter name that refers to the instance of a class. It is used within methods of a class to access and manipulate the object's attributes and methods. \n",
    "\n",
    "Here are the reasons why `self` is used in OOP:\n",
    "\n",
    "1. Accessing Object Attributes: By using `self`, you can access the attributes (data) of the current instance of a class. It allows you to refer to the specific instance's attributes within the class methods. For example, `self.name` would refer to the `name` attribute of the current object.\n",
    "\n",
    "2. Modifying Object State: `self` allows you to modify the state (values of attributes) of the object. You can assign new values to the object's attributes using `self`. For instance, `self.age = 30` would set the `age` attribute of the object to 30.\n",
    "\n",
    "3. Method Invocation: With `self`, you can invoke other methods of the class from within a method. It enables you to call other methods of the same instance using `self.method_name()`. This way, you can encapsulate related functionalities within the class and call them as needed.\n",
    "\n",
    "4. Differentiating Object Instances: In a class, `self` helps differentiate one object instance from another. Each instance of a class has its own set of attributes and values. By using `self`, you can refer to the specific instance's attributes and methods.\n",
    "\n",
    "In the below example, `self` is used within the `__init__()` method to assign values to the `name` and `age` attributes of the object. It is also used in the `introduce()` method to access the object's attributes and display information about the person. By using `self`, we can refer to the specific instance's attributes and methods within the class."
   ]
  },
  {
   "cell_type": "code",
   "execution_count": 10,
   "id": "2aa4ec28-7199-4948-beee-2a23f88a73fb",
   "metadata": {},
   "outputs": [
    {
     "name": "stdout",
     "output_type": "stream",
     "text": [
      "Alice\n",
      "25\n",
      "Hi, my name is Alice and I'm 25 years old.\n"
     ]
    }
   ],
   "source": [
    "class Person:\n",
    "    def __init__(self, name, age):\n",
    "        self.name = name\n",
    "        self.age = age\n",
    "\n",
    "    def introduce(self):\n",
    "        print(f\"Hi, my name is {self.name} and I'm {self.age} years old.\")\n",
    "\n",
    "\n",
    "# Create an object of the Person class\n",
    "person = Person(\"Alice\", 25)\n",
    "\n",
    "# Access object attributes using self\n",
    "print(person.name)  # Output: Alice\n",
    "print(person.age)   # Output: 25\n",
    "\n",
    "# Call object method using self\n",
    "person.introduce()  # Output: Hi, my name is Alice and I'm 25 years old."
   ]
  },
  {
   "cell_type": "markdown",
   "id": "6790bd45-b450-41c2-8adf-340d42e3d1f4",
   "metadata": {},
   "source": [
    "Q5. What is inheritance? Give an example for each type of inheritance."
   ]
  },
  {
   "cell_type": "markdown",
   "id": "6a3f905d-b578-4c5c-915a-1df80f385354",
   "metadata": {},
   "source": [
    "Inheritance is a fundamental concept in object-oriented programming (OOP) that allows one class to inherit properties and behaviors from another class. \n",
    "The class that inherits is called the derived class or subclass, and the class from which it inherits is called the base class or superclass.\n",
    "Inheritance promotes code reuse, modularity, and the creation of a hierarchical relationship between classes.\n",
    "\n",
    "There are different types of inheritance in Python:\n",
    "\n",
    "1. Single Inheritance:\n",
    " "
   ]
  },
  {
   "cell_type": "code",
   "execution_count": 14,
   "id": "59e89257-aafa-4aa6-83c0-09412e81acb1",
   "metadata": {},
   "outputs": [
    {
     "name": "stdout",
     "output_type": "stream",
     "text": [
      "Animal makes a sound.\n",
      "Dog barks.\n"
     ]
    }
   ],
   "source": [
    "class Animal:\n",
    "    def sound(self):\n",
    "        print(\"Animal makes a sound.\")\n",
    "\n",
    "class Dog(Animal):\n",
    "    def bark(self):\n",
    "        print(\"Dog barks.\")\n",
    "\n",
    "# Create an object of Dog class\n",
    "dog = Dog()\n",
    "dog.sound()  # Output: Animal makes a sound.\n",
    "dog.bark()   # Output: Dog barks.\n"
   ]
  },
  {
   "cell_type": "markdown",
   "id": "5370a465-6d4f-4185-b391-470f6b5463d7",
   "metadata": {},
   "source": [
    "2.Multiple Inheritance:\n",
    "Multiple inheritance involves a derived class inheriting from multiple base classes. It allows a derived class to inherit attributes and methods from multiple classes."
   ]
  },
  {
   "cell_type": "code",
   "execution_count": 15,
   "id": "6fbeaf58-116d-4c06-ae49-f58a6b3db981",
   "metadata": {},
   "outputs": [
    {
     "name": "stdout",
     "output_type": "stream",
     "text": [
      "Method 1 from Parent 1.\n",
      "Method 2 from Parent 2.\n",
      "Method 3 from Child.\n"
     ]
    }
   ],
   "source": [
    "class Parent1:\n",
    "    def method1(self):\n",
    "        print(\"Method 1 from Parent 1.\")\n",
    "\n",
    "class Parent2:\n",
    "    def method2(self):\n",
    "        print(\"Method 2 from Parent 2.\")\n",
    "\n",
    "class Child(Parent1, Parent2):\n",
    "    def method3(self):\n",
    "        print(\"Method 3 from Child.\")\n",
    "\n",
    "# Create an object of Child class\n",
    "child = Child()\n",
    "child.method1()  # Output: Method 1 from Parent 1.\n",
    "child.method2()  # Output: Method 2 from Parent 2.\n",
    "child.method3()  # Output: Method 3 from Child."
   ]
  },
  {
   "cell_type": "markdown",
   "id": "ee681053-3299-4ca7-b271-6518edbb6338",
   "metadata": {},
   "source": [
    "3.Multilevel Inheritance:\n",
    "Multilevel inheritance involves a derived class inheriting from a base class, which is itself derived from another base class.\n",
    "It forms a hierarchical inheritance relationship."
   ]
  },
  {
   "cell_type": "code",
   "execution_count": 16,
   "id": "a3df5498-7e71-452f-aef1-c213b4c9ed30",
   "metadata": {},
   "outputs": [
    {
     "name": "stdout",
     "output_type": "stream",
     "text": [
      "Animal makes a sound.\n",
      "Dog barks.\n",
      "Labrador is golden in color.\n"
     ]
    }
   ],
   "source": [
    "class Animal:\n",
    "    def sound(self):\n",
    "        print(\"Animal makes a sound.\")\n",
    "\n",
    "class Dog(Animal):\n",
    "    def bark(self):\n",
    "        print(\"Dog barks.\")\n",
    "\n",
    "class Labrador(Dog):\n",
    "    def color(self):\n",
    "        print(\"Labrador is golden in color.\")\n",
    "\n",
    "# Create an object of Labrador class\n",
    "labrador = Labrador()\n",
    "labrador.sound()  # Output: Animal makes a sound.\n",
    "labrador.bark()   # Output: Dog barks.\n",
    "labrador.color()  # Output: Labrador is golden in color."
   ]
  },
  {
   "cell_type": "markdown",
   "id": "7385734c-9eca-4767-b873-db2a1dc70998",
   "metadata": {},
   "source": [
    "Hierarchical Inheritance:\n",
    "Hierarchical inheritance involves multiple derived classes inheriting from a single base class. \n",
    "It allows the creation of a hierarchy of classes with increasing levels of specialization."
   ]
  },
  {
   "cell_type": "code",
   "execution_count": 18,
   "id": "8574776a-a93e-4dc1-9bb7-ae14d79af8df",
   "metadata": {},
   "outputs": [
    {
     "name": "stdout",
     "output_type": "stream",
     "text": [
      "Animal makes a sound.\n",
      "Dog barks.\n",
      "Animal makes a sound.\n",
      "Cat meows.\n"
     ]
    }
   ],
   "source": [
    "class Animal:\n",
    "    def sound(self):\n",
    "        print(\"Animal makes a sound.\")\n",
    "\n",
    "class Dog(Animal):\n",
    "    def bark(self):\n",
    "        print(\"Dog barks.\")\n",
    "\n",
    "class Cat(Animal):\n",
    "    def meow(self):\n",
    "        print(\"Cat meows.\")\n",
    "\n",
    "# Create objects of Dog and Cat classes\n",
    "dog = Dog()\n",
    "cat = Cat()\n",
    "\n",
    "dog.sound()  # Output: Animal makes a sound.\n",
    "dog.bark()   # Output: Dog barks.\n",
    "\n",
    "cat.sound()  # Output: Animal makes a sound.\n",
    "cat.meow()   # Output: Cat meows."
   ]
  }
 ],
 "metadata": {
  "kernelspec": {
   "display_name": "Python 3 (ipykernel)",
   "language": "python",
   "name": "python3"
  },
  "language_info": {
   "codemirror_mode": {
    "name": "ipython",
    "version": 3
   },
   "file_extension": ".py",
   "mimetype": "text/x-python",
   "name": "python",
   "nbconvert_exporter": "python",
   "pygments_lexer": "ipython3",
   "version": "3.10.8"
  }
 },
 "nbformat": 4,
 "nbformat_minor": 5
}
