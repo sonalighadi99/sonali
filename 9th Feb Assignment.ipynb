{
 "cells": [
  {
   "cell_type": "markdown",
   "id": "290e695b-7f4d-43ae-9f01-09248d1897cf",
   "metadata": {},
   "source": [
    "Q1, Create a vehicle class with an init method having instance variables as name_of_vehicle, max_speed\n",
    "and average_of_vehicle."
   ]
  },
  {
   "cell_type": "code",
   "execution_count": 1,
   "id": "b98e4bb4-4af6-40aa-8e1f-a2b3c23985ff",
   "metadata": {},
   "outputs": [
    {
     "name": "stdout",
     "output_type": "stream",
     "text": [
      "Car\n",
      "200\n",
      "40\n",
      "Bike\n",
      "120\n",
      "30\n"
     ]
    }
   ],
   "source": [
    "class Vehicle:\n",
    "    def __init__(self, name_of_vehicle, max_speed, average_of_vehicle):\n",
    "        self.name_of_vehicle = name_of_vehicle\n",
    "        self.max_speed = max_speed\n",
    "        self.average_of_vehicle = average_of_vehicle\n",
    "\n",
    "# Example usage\n",
    "car = Vehicle(\"Car\", 200, 40)\n",
    "print(car.name_of_vehicle)        # Output: Car\n",
    "print(car.max_speed)              # Output: 200\n",
    "print(car.average_of_vehicle)     # Output: 40\n",
    "\n",
    "bike = Vehicle(\"Bike\", 120, 30)\n",
    "print(bike.name_of_vehicle)       # Output: Bike\n",
    "print(bike.max_speed)             # Output: 120\n",
    "print(bike.average_of_vehicle)    # Output: 30"
   ]
  },
  {
   "cell_type": "markdown",
   "id": "49f71038-ed29-4450-874a-b7287ec4a65f",
   "metadata": {},
   "source": [
    "Q2. Create a child class car from the vehicle class created in Que 1, which will inherit the vehicle class.\n",
    "Create a method named seating_capacity which takes capacity as an argument and returns the name of\n",
    "the vehicle and its seating capacity."
   ]
  },
  {
   "cell_type": "code",
   "execution_count": 2,
   "id": "0ad13776-080b-418c-ba88-5d6e4dc68523",
   "metadata": {},
   "outputs": [
    {
     "name": "stdout",
     "output_type": "stream",
     "text": [
      "Car has a seating capacity of 5 people.\n",
      "Bike has a seating capacity of 2 people.\n"
     ]
    }
   ],
   "source": [
    "class Car(Vehicle):\n",
    "    def seating_capacity(self, capacity):\n",
    "        return f\"{self.name_of_vehicle} has a seating capacity of {capacity} people.\"\n",
    "\n",
    "# Example usage\n",
    "car = Car(\"Car\", 200, 40)\n",
    "print(car.seating_capacity(5))     # Output: Car has a seating capacity of 5 people.\n",
    "\n",
    "bike = Car(\"Bike\", 120, 30)\n",
    "print(bike.seating_capacity(2))    # Output: Bike has a seating capacity of 2 people."
   ]
  },
  {
   "cell_type": "markdown",
   "id": "d3fb87f2-665e-474c-a9a9-1b40a09799dd",
   "metadata": {},
   "source": [
    "Q3. What is multiple inheritance? Write a python code to demonstrate multiple inheritance."
   ]
  },
  {
   "cell_type": "markdown",
   "id": "d47d4e4a-c8ea-403b-8070-785f80d74881",
   "metadata": {},
   "source": [
    "Multiple inheritance is a feature of object-oriented programming where a class can inherit attributes and methods from more than one parent class. This allows a child class to inherit and combine the features and behaviors of multiple parent classes."
   ]
  },
  {
   "cell_type": "code",
   "execution_count": 3,
   "id": "8aecf9d8-95cb-4e3f-8d6b-cecab6fa76d3",
   "metadata": {},
   "outputs": [
    {
     "name": "stdout",
     "output_type": "stream",
     "text": [
      "Sparrow is making a sound.\n",
      "Flying in the sky.\n"
     ]
    }
   ],
   "source": [
    "class Animal:\n",
    "    def __init__(self, name):\n",
    "        self.name = name\n",
    "\n",
    "    def speak(self):\n",
    "        print(f\"{self.name} is making a sound.\")\n",
    "\n",
    "\n",
    "class Flyable:\n",
    "    def fly(self):\n",
    "        print(\"Flying in the sky.\")\n",
    "\n",
    "\n",
    "class Bird(Animal, Flyable):\n",
    "    def __init__(self, name):\n",
    "        super().__init__(name)\n",
    "\n",
    "\n",
    "bird = Bird(\"Sparrow\")\n",
    "bird.speak()  # Output: Sparrow is making a sound.\n",
    "bird.fly()    # Output: Flying in the sky."
   ]
  },
  {
   "cell_type": "markdown",
   "id": "7f2d3d73-0cc6-4443-965c-22172be295df",
   "metadata": {},
   "source": [
    "Q4. What are getter and setter in python? Create a class and create a getter and a setter method in this class."
   ]
  },
  {
   "cell_type": "markdown",
   "id": "4e13db31-dde1-43c4-a6ff-aeeebe8dd778",
   "metadata": {},
   "source": [
    "In Python, getters and setters are methods used to control access to the attributes of a class.\n",
    "They provide a way to retrieve (get) and modify (set) the values of private attributes, allowing for data encapsulation and \n",
    "ensuring proper handling of attribute access."
   ]
  },
  {
   "cell_type": "code",
   "execution_count": 4,
   "id": "ed48c4eb-27d9-4cf9-81c5-441ac433ee2f",
   "metadata": {},
   "outputs": [
    {
     "name": "stdout",
     "output_type": "stream",
     "text": [
      "John\n",
      "Jane\n"
     ]
    }
   ],
   "source": [
    "class Person:\n",
    "    def __init__(self, name):\n",
    "        self._name = name  # Private attribute\n",
    "\n",
    "    # Getter method\n",
    "    def get_name(self):\n",
    "        return self._name\n",
    "\n",
    "    # Setter method\n",
    "    def set_name(self, name):\n",
    "        self._name = name\n",
    "\n",
    "# Usage\n",
    "person = Person(\"John\")\n",
    "print(person.get_name())  # Output: John\n",
    "\n",
    "person.set_name(\"Jane\")\n",
    "print(person.get_name())  # Output: Jane"
   ]
  },
  {
   "cell_type": "markdown",
   "id": "a4a2cc43-6f06-4a1b-8c07-71420959715b",
   "metadata": {},
   "source": [
    "Q5.What is method overriding in python? Write a python code to demonstrate method overriding."
   ]
  },
  {
   "cell_type": "markdown",
   "id": "b651dfa7-d508-48be-82c8-09c8537b6582",
   "metadata": {},
   "source": [
    "Method overriding is a concept in object-oriented programming where a subclass provides a different implementation of a method that is already defined in its superclass. The overridden method in the subclass has the same name, same parameters, and same return type as the method in the superclass, but it provides a different behavior."
   ]
  },
  {
   "cell_type": "code",
   "execution_count": 5,
   "id": "0208abc5-5f38-47f7-bfa9-13dfbc6fb3ea",
   "metadata": {},
   "outputs": [
    {
     "name": "stdout",
     "output_type": "stream",
     "text": [
      "Animal makes a sound.\n",
      "Dog barks.\n"
     ]
    }
   ],
   "source": [
    "class Animal:\n",
    "    def make_sound(self):\n",
    "        print(\"Animal makes a sound.\")\n",
    "\n",
    "\n",
    "class Dog(Animal):\n",
    "    def make_sound(self):\n",
    "        print(\"Dog barks.\")\n",
    "\n",
    "\n",
    "animal = Animal()\n",
    "animal.make_sound()  # Output: Animal makes a sound.\n",
    "\n",
    "dog = Dog()\n",
    "dog.make_sound()     # Output: Dog barks."
   ]
  }
 ],
 "metadata": {
  "kernelspec": {
   "display_name": "Python 3 (ipykernel)",
   "language": "python",
   "name": "python3"
  },
  "language_info": {
   "codemirror_mode": {
    "name": "ipython",
    "version": 3
   },
   "file_extension": ".py",
   "mimetype": "text/x-python",
   "name": "python",
   "nbconvert_exporter": "python",
   "pygments_lexer": "ipython3",
   "version": "3.10.8"
  }
 },
 "nbformat": 4,
 "nbformat_minor": 5
}
