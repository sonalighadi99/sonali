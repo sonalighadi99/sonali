{
 "cells": [
  {
   "cell_type": "markdown",
   "id": "df2628ea-f3f0-4e52-9f61-6c1356c729fa",
   "metadata": {},
   "source": [
    "Q1. What is Abstraction in OOps? Explain with an example."
   ]
  },
  {
   "cell_type": "markdown",
   "id": "d6890c9b-2ffe-4818-b3dd-9c4c20742b8c",
   "metadata": {},
   "source": [
    "Abstraction is a fundamental principle in object-oriented programming (OOP) that focuses on representing the essential characteristics and behavior of an object while hiding the implementation details. It allows us to create complex systems by breaking them down into simpler, more manageable components.\n",
    "\n"
   ]
  },
  {
   "cell_type": "code",
   "execution_count": 1,
   "id": "2e85bf88-ed22-47cd-a5f7-62ecbc1feb39",
   "metadata": {},
   "outputs": [],
   "source": [
    "from abc import ABC, abstractmethod\n",
    "\n",
    "class Account(ABC):\n",
    "    def __init__(self, account_number, balance):\n",
    "        self.account_number = account_number\n",
    "        self.balance = balance\n",
    "\n",
    "    @abstractmethod\n",
    "    def deposit(self, amount):\n",
    "        pass\n",
    "\n",
    "    @abstractmethod\n",
    "    def withdraw(self, amount):\n",
    "        pass\n",
    "\n",
    "    def get_balance(self):\n",
    "        return self.balance\n",
    "\n",
    "class SavingsAccount(Account):\n",
    "    def __init__(self, account_number, balance, interest_rate):\n",
    "        super().__init__(account_number, balance)\n",
    "        self.interest_rate = interest_rate\n",
    "\n",
    "    def deposit(self, amount):\n",
    "        self.balance += amount\n",
    "\n",
    "    def withdraw(self, amount):\n",
    "        if self.balance >= amount:\n",
    "            self.balance -= amount\n",
    "\n",
    "class CheckingAccount(Account):\n",
    "    def __init__(self, account_number, balance, overdraft_limit):\n",
    "        super().__init__(account_number, balance)\n",
    "        self.overdraft_limit = overdraft_limit\n",
    "\n",
    "    def deposit(self, amount):\n",
    "        self.balance += amount\n",
    "\n",
    "    def withdraw(self, amount):\n",
    "        if self.balance + self.overdraft_limit >= amount:\n",
    "            self.balance -= amount\n"
   ]
  },
  {
   "cell_type": "markdown",
   "id": "00b80904-6ec4-4190-a734-044d595fe051",
   "metadata": {},
   "source": [
    "Q2. Differentiate between Abstraction and Encapsulation. Explain with an example."
   ]
  },
  {
   "cell_type": "markdown",
   "id": "5708aab6-72c4-4062-8872-dfb17709a3a2",
   "metadata": {},
   "source": [
    "Abstraction and encapsulation are two fundamental concepts in object-oriented programming (OOP), but they have distinct meanings and purposes. Let's differentiate between abstraction and encapsulation and explain each concept with an example.\n",
    "\n",
    "1. Abstraction:\n",
    "   - Abstraction focuses on representing the essential characteristics and behavior of an object while hiding the implementation details. It allows us to create complex systems by breaking them down into simpler, more manageable components.\n",
    "   - Abstraction is achieved through the use of abstract classes and interfaces, defining the common characteristics and behaviors that subclasses must implement.\n",
    "   - Abstraction provides a way to create a contract or blueprint for objects, specifying what they can do without revealing how they do it.\n",
    "\n",
    "Example:\n",
    "Consider a scenario where we are building a media player application. We can define an abstract class called `MediaPlayer` that represents the basic functionality of any media player, such as playing, pausing, and stopping a media file. The specific implementation details for different types of media players, like audio player and video player, can be defined in their respective subclasses. By using abstraction, we create a common interface that defines the essential behavior of media players while hiding the internal details of each player type.\n",
    "\n",
    "2. Encapsulation:\n",
    "   - Encapsulation focuses on bundling data and methods together into a single unit, known as a class. It provides the concept of data hiding by making data private and exposing it only through public methods (getters and setters).\n",
    "   - Encapsulation ensures that the internal state of an object is protected from unauthorized access and modification, and it allows us to control how data is accessed and manipulated.\n",
    "   - Encapsulation helps in achieving data abstraction, where the internal representation of data is hidden from the outside world.\n",
    "\n",
    "Example:\n",
    "Let's consider a class called `Person` that represents a person's information, such as name and age. We can encapsulate the data by making the attributes private and providing public methods to access and modify them.\n"
   ]
  },
  {
   "cell_type": "code",
   "execution_count": 2,
   "id": "c11ba35e-5c2b-438f-9d7a-6615cc1ec20c",
   "metadata": {},
   "outputs": [],
   "source": [
    "class Person:\n",
    "    def __init__(self, name, age):\n",
    "        self.__name = name  # Encapsulated attribute\n",
    "        self.__age = age    # Encapsulated attribute\n",
    "\n",
    "    def get_name(self):     # Public getter method\n",
    "        return self.__name\n",
    "\n",
    "    def set_name(self, name):  # Public setter method\n",
    "        self.__name = name\n",
    "\n",
    "    def get_age(self):     # Public getter method\n",
    "        return self.__age\n",
    "\n",
    "    def set_age(self, age):  # Public setter method\n",
    "        if age > 0:\n",
    "            self.__age = age\n"
   ]
  },
  {
   "cell_type": "markdown",
   "id": "142fc6c4-dd59-4c94-ae83-1b2a63486336",
   "metadata": {},
   "source": [
    "Q3. What is abc module in python? Why is it used?"
   ]
  },
  {
   "cell_type": "markdown",
   "id": "beda6aa6-453d-4445-9188-f5937dcadde4",
   "metadata": {},
   "source": [
    "The `abc` module in Python stands for \"Abstract Base Classes.\" It provides a way to define abstract base classes in Python. An abstract base class is a class that cannot be instantiated and is meant to be subclassed by other classes. It defines a common interface and a set of methods that its subclasses must implement.\n",
    "\n",
    "The `abc` module is used to create abstract base classes and define abstract methods. It is part of the Python standard library and provides the `ABC` class and the `abstractmethod` decorator.\n",
    "\n",
    "Here are the key uses and benefits of the `abc` module:\n",
    "\n",
    "1. Defining Abstract Base Classes (ABCs): The `ABC` class from the `abc` module is used as a metaclass to define abstract base classes. An abstract base class is a class that defines a common interface and a set of methods that its subclasses must implement. It serves as a blueprint or contract for subclasses to adhere to.\n",
    "\n",
    "2. Enforcing Method Implementation: The `abstractmethod` decorator is used to mark methods within an abstract base class as abstract methods. An abstract method is a method that has no implementation in the abstract base class and must be implemented by its subclasses. If a subclass does not implement an abstract method defined in the base class, it will raise a `TypeError` upon instantiation.\n",
    "\n",
    "3. Polymorphism and Subtype Polymorphism: By using abstract base classes, you can achieve polymorphism and subtype polymorphism in your code. Subclasses that inherit from the same abstract base class can be treated uniformly, and their common interface can be used interchangeably.\n",
    "\n",
    "4. Code Documentation and Design Intent: Abstract base classes provide a clear indication of the expected behavior and methods that subclasses should implement. They serve as documentation and communicate the design intent of a class hierarchy to other developers.\n",
    "\n",
    "By using the `abc` module and creating abstract base classes, you can promote code reuse, enforce common behavior across subclasses, and design more maintainable and extensible code. It encourages adherence to interfaces, promotes the \"programming to an interface, not an implementation\" principle, and allows for more flexible and robust software architecture."
   ]
  },
  {
   "cell_type": "markdown",
   "id": "54040448-26fb-4ce0-9d8f-c267a300a14d",
   "metadata": {},
   "source": [
    "Q4. How can we achieve data abstraction?"
   ]
  },
  {
   "cell_type": "markdown",
   "id": "accfb389-ca00-4907-9b05-65a534ecbfe7",
   "metadata": {},
   "source": [
    "Data abstraction can be achieved in Python through the use of classes, objects, and access modifiers. Here are the steps to achieve data abstraction:\n",
    "\n",
    "1. Create a Class: Define a class that represents the abstraction you want to achieve. The class should encapsulate the data and related methods.\n",
    "\n",
    "2. Define Attributes: Declare the attributes (data) within the class to store the information. It is recommended to make the attributes private or protected by using access modifiers.\n",
    "\n",
    "3. Define Methods: Define methods within the class to manipulate and access the data. These methods should be responsible for interacting with the attributes and performing the desired operations.\n",
    "\n",
    "4. Use Access Modifiers: Use access modifiers such as underscores (_) to control the visibility and accessibility of attributes and methods. By convention, a single underscore (_) is used to indicate that an attribute or method is intended to be protected, and a double underscore (__) is used to indicate private attributes or methods.\n",
    "\n",
    "By following these steps, you can achieve data abstraction by providing a clear separation between the external interface (public methods) and the internal implementation (private or protected attributes and methods). This hides the internal details of the data and allows users to interact with the class using the provided methods.\n",
    "\n"
   ]
  },
  {
   "cell_type": "code",
   "execution_count": 5,
   "id": "f6e34e24-b476-4775-87ca-6522c5fd5c19",
   "metadata": {},
   "outputs": [],
   "source": [
    "class BankAccount:\n",
    "    def __init__(self, account_number, balance):\n",
    "        self._account_number = account_number  # Protected attribute\n",
    "        self._balance = balance  # Protected attribute\n",
    "\n",
    "    def deposit(self, amount):\n",
    "        self._balance += amount\n",
    "\n",
    "    def withdraw(self, amount):\n",
    "        if self._balance >= amount:\n",
    "            self._balance -= amount\n",
    "\n",
    "    def get_balance(self):\n",
    "        return self._balance"
   ]
  },
  {
   "cell_type": "code",
   "execution_count": 6,
   "id": "8c8196fc-bbb0-47d8-bd36-4ae02fea725b",
   "metadata": {},
   "outputs": [
    {
     "name": "stdout",
     "output_type": "stream",
     "text": [
      "1300\n"
     ]
    }
   ],
   "source": [
    "account = BankAccount(\"123456789\", 1000)\n",
    "account.deposit(500)\n",
    "account.withdraw(200)\n",
    "balance = account.get_balance()\n",
    "print(balance)  # Output: 1300"
   ]
  },
  {
   "cell_type": "markdown",
   "id": "e3f0c3aa-2442-494b-a38d-c16261982de5",
   "metadata": {},
   "source": [
    "Q5. Can we create an instance of an abstract class? Explain your answer."
   ]
  },
  {
   "cell_type": "markdown",
   "id": "9f0bf4c0-e4fb-46bb-a7b4-7ba9daae0470",
   "metadata": {},
   "source": [
    "No, we cannot create an instance of an abstract class in Python. Abstract classes are meant to be used as base classes and serve as blueprints for other classes to inherit from. They provide a common interface and a set of methods that must be implemented by their subclasses.\n",
    "\n",
    "An abstract class in Python is defined using the ABC metaclass from the abc module or by including at least one abstract method using the @abstractmethod decorator. The presence of abstract methods makes the class itself abstract.\n",
    "\n",
    "Attempting to directly instantiate an abstract class will result in a TypeError. Python enforces this behavior to prevent the creation of incomplete objects that lack the required method implementations defined in the abstract class.\n",
    "\n",
    "Here's an example to illustrate the inability to create an instance of an abstract class:"
   ]
  },
  {
   "cell_type": "code",
   "execution_count": 7,
   "id": "3cedaaaf-7ae8-4e47-a03d-aeac335718d4",
   "metadata": {},
   "outputs": [
    {
     "ename": "TypeError",
     "evalue": "Can't instantiate abstract class MyAbstractClass with abstract method my_method",
     "output_type": "error",
     "traceback": [
      "\u001b[0;31m---------------------------------------------------------------------------\u001b[0m",
      "\u001b[0;31mTypeError\u001b[0m                                 Traceback (most recent call last)",
      "Cell \u001b[0;32mIn[7], line 9\u001b[0m\n\u001b[1;32m      6\u001b[0m         \u001b[38;5;28;01mpass\u001b[39;00m\n\u001b[1;32m      8\u001b[0m \u001b[38;5;66;03m# Attempting to instantiate an abstract class\u001b[39;00m\n\u001b[0;32m----> 9\u001b[0m my_object \u001b[38;5;241m=\u001b[39m \u001b[43mMyAbstractClass\u001b[49m\u001b[43m(\u001b[49m\u001b[43m)\u001b[49m  \u001b[38;5;66;03m# Raises TypeError\u001b[39;00m\n",
      "\u001b[0;31mTypeError\u001b[0m: Can't instantiate abstract class MyAbstractClass with abstract method my_method"
     ]
    }
   ],
   "source": [
    "from abc import ABC, abstractmethod\n",
    "\n",
    "class MyAbstractClass(ABC):\n",
    "    @abstractmethod\n",
    "    def my_method(self):\n",
    "        pass\n",
    "\n",
    "# Attempting to instantiate an abstract class\n",
    "my_object = MyAbstractClass()  # Raises TypeError\n"
   ]
  },
  {
   "cell_type": "markdown",
   "id": "052f9058-bcc5-49fd-8735-2e597ef6d68b",
   "metadata": {},
   "source": [
    "In the above example, MyAbstractClass is an abstract class that contains one abstract method, my_method. When we try to create an instance of MyAbstractClass, a TypeError is raised.\n",
    "\n",
    "Instead, the purpose of abstract classes is to serve as a blueprint for subclasses. Subclasses that inherit from the abstract class are responsible for implementing the abstract methods defined in the abstract class. By creating instances of the subclasses, we can utilize the complete implementation of the abstract class provided by the subclasses."
   ]
  },
  {
   "cell_type": "code",
   "execution_count": 8,
   "id": "aa482088-f69d-4277-84b0-f6f2e8e3069b",
   "metadata": {},
   "outputs": [],
   "source": [
    "class MySubclass(MyAbstractClass):\n",
    "    def my_method(self):\n",
    "        # Implement the abstract method\n",
    "        pass\n",
    "\n",
    "# Creating an instance of the subclass\n",
    "my_object = MySubclass()  # No TypeError, as the subclass implements the abstract method\n"
   ]
  },
  {
   "cell_type": "markdown",
   "id": "6d275270-d464-4876-8080-292b2d135d53",
   "metadata": {},
   "source": [
    "In this modified example, we create a subclass called MySubclass that inherits from MyAbstractClass. The subclass provides an implementation for the abstract method my_method. Now, we can create an instance of MySubclass without encountering a TypeError.\n",
    "\n",
    "In summary, abstract classes cannot be instantiated directly. They serve as templates for subclasses to inherit from and provide the required method implementations. The creation of instances is done through the subclasses, which implement the abstract methods of the abstract class."
   ]
  },
  {
   "cell_type": "code",
   "execution_count": null,
   "id": "5209545c-d1be-41d9-8911-e3e10b5575e8",
   "metadata": {},
   "outputs": [],
   "source": []
  }
 ],
 "metadata": {
  "kernelspec": {
   "display_name": "Python 3 (ipykernel)",
   "language": "python",
   "name": "python3"
  },
  "language_info": {
   "codemirror_mode": {
    "name": "ipython",
    "version": 3
   },
   "file_extension": ".py",
   "mimetype": "text/x-python",
   "name": "python",
   "nbconvert_exporter": "python",
   "pygments_lexer": "ipython3",
   "version": "3.10.8"
  }
 },
 "nbformat": 4,
 "nbformat_minor": 5
}
